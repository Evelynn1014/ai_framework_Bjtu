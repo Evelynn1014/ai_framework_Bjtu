{
 "cells": [
  {
   "metadata": {},
   "cell_type": "markdown",
   "source": [
    "## 数据预处理\n",
    "· 数据集采用多语言数据集中的cmn（英文/繁体中文）\n",
    "\n",
    "· 采用数据集中的英文部分进行实验\n",
    "\n",
    "· 使用numpy实现了skip gram，CBOW，glove和fastText（作业要求中提及的四种算法）\n",
    "\n",
    "· 实现了词向量的保存、加载和词/句子相似度计算，并对每个算法进词和句子的相似度计算\n",
    "\n",
    "· 由于电脑算力一般，为了不浪费时间，只采用了前1000条数据，这样算出的word embadding效果较差，也在情理之中，勉强能用"
   ],
   "id": "ba416b4eaf25407d"
  },
  {
   "cell_type": "code",
   "source": [
    "import numpy as np\n",
    "import re\n",
    "import tqdm\n",
    "# 加载数据集，保留标点符号\n",
    "def load_dataset(filename, max_lines=1000):\n",
    "    pairs = []\n",
    "    with open(filename, 'r', encoding='utf-8') as file:\n",
    "        for i, line in enumerate(file):\n",
    "            if i >= max_lines:\n",
    "                break\n",
    "            parts = line.split('\\t')\n",
    "            if len(parts) >= 2:\n",
    "                en_sentence = parts[0].strip().lower()  # 保留英文标点符号并转为小写\n",
    "                cn_sentence = parts[1].strip() \n",
    "                pairs.append((en_sentence, cn_sentence))\n",
    "    return pairs\n",
    "# 创建vocab\n",
    "def create_vocab(pairs):\n",
    "    vocab = {'<PAD>': 0, '<SOS>': 1, '<EOS>': 2, '<UNK>': 3}\n",
    "    for en, _ in pairs:\n",
    "        for word in re.findall(r'\\w+|[^\\w\\s]', en, re.UNICODE):  # 分词时保留标点符号\n",
    "            if word not in vocab:\n",
    "                vocab[word] = len(vocab)\n",
    "    return vocab\n",
    "\n",
    "# 数据处理\n",
    "filename = 'cmn.txt' \n",
    "data_pairs = load_dataset(filename)\n",
    "vocab = create_vocab(data_pairs)\n",
    "\n",
    "print(\"Example data pairs:\", data_pairs[:5])\n",
    "print(\"Vocabulary:\", list(vocab.items())[:50])"
   ],
   "metadata": {
    "collapsed": false,
    "ExecuteTime": {
     "end_time": "2024-06-22T07:29:53.456958Z",
     "start_time": "2024-06-22T07:29:53.437531Z"
    }
   },
   "id": "8dd3bf6bcbc20e39",
   "outputs": [
    {
     "name": "stdout",
     "output_type": "stream",
     "text": [
      "Example data pairs: [('hi.', '嗨。'), ('hi.', '你好。'), ('run.', '你用跑的。'), ('wait!', '等等！'), ('wait!', '等一下！')]\n",
      "Vocabulary: [('<PAD>', 0), ('<SOS>', 1), ('<EOS>', 2), ('<UNK>', 3), ('hi', 4), ('.', 5), ('run', 6), ('wait', 7), ('!', 8), ('begin', 9), ('hello', 10), ('i', 11), ('won', 12), ('oh', 13), ('no', 14), ('cheers', 15), ('got', 16), ('it', 17), ('?', 18), ('he', 19), ('ran', 20), ('hop', 21), ('in', 22), ('quit', 23), (\"'\", 24), ('m', 25), ('ok', 26), ('up', 27), ('listen', 28), ('way', 29), ('really', 30), ('try', 31), ('we', 32), ('why', 33), ('me', 34), ('ask', 35), ('tom', 36), ('awesome', 37), ('be', 38), ('calm', 39), ('fair', 40), ('kind', 41), ('nice', 42), ('call', 43), ('us', 44), ('come', 45), ('get', 46), ('out', 47), ('go', 48), ('away', 49)]\n"
     ]
    }
   ],
   "execution_count": 46
  },
  {
   "cell_type": "code",
   "source": [
    "def generate_skipgram_data(pairs, vocab, window_size=6):\n",
    "    training_data = []\n",
    "    for en, _ in pairs:\n",
    "        words = re.findall(r'\\w+|[^\\w\\s]', en, re.UNICODE)  # 分词时保留标点符号\n",
    "        \n",
    "        indices = [vocab[word] for word in words]\n",
    "        for center_i, center_word in enumerate(indices):\n",
    "            for offset in range(-window_size, window_size + 1):\n",
    "                context_i = center_i + offset\n",
    "                if context_i < 0 or context_i >= len(indices) or center_i == context_i:\n",
    "                    continue\n",
    "                context_word = indices[context_i]\n",
    "                training_data.append((center_word, context_word))\n",
    "    return training_data\n",
    "\n",
    "# 生成 Skip-gram 训练数据\n",
    "window_size = 2\n",
    "training_data = generate_skipgram_data(data_pairs, vocab, window_size)\n",
    "\n",
    "print(\"Training data example:\", training_data[:5])\n"
   ],
   "metadata": {
    "collapsed": false,
    "ExecuteTime": {
     "end_time": "2024-06-22T07:29:58.718272Z",
     "start_time": "2024-06-22T07:29:58.694394Z"
    }
   },
   "id": "71e39a1b99f45f40",
   "outputs": [
    {
     "name": "stdout",
     "output_type": "stream",
     "text": [
      "Training data example: [(4, 5), (5, 4), (4, 5), (5, 4), (6, 5)]\n"
     ]
    }
   ],
   "execution_count": 47
  },
  {
   "cell_type": "code",
   "source": [
    "# Sigmoid\n",
    "def sigmoid(x):\n",
    "    return 1 / (1 + np.exp(-x))\n",
    "\n",
    "# Skip-gram 训练函数\n",
    "def train_skipgram(training_data, vocab_size, embedding_dim=100, iterations=100, learning_rate=0.01, negative_samples=5):\n",
    "    W_input = np.random.randn(vocab_size, embedding_dim)\n",
    "    W_output = np.random.randn(vocab_size, embedding_dim)\n",
    "\n",
    "    for iteration in range(iterations):\n",
    "        total_loss = 0\n",
    "        for center_word, context_word in training_data:\n",
    "            # 正样本\n",
    "            z = np.dot(W_input[center_word], W_output[context_word])\n",
    "            p = sigmoid(z)\n",
    "            loss = -np.log(p)\n",
    "            total_loss += loss\n",
    "\n",
    "            # 反向传播\n",
    "            grad_output = p - 1\n",
    "            grad_input = grad_output * W_output[context_word]\n",
    "\n",
    "            W_output[context_word] -= learning_rate * grad_output * W_input[center_word]\n",
    "            W_input[center_word] -= learning_rate * grad_input\n",
    "\n",
    "            # 负采样\n",
    "            for _ in range(negative_samples):\n",
    "                negative_word = np.random.choice(vocab_size)\n",
    "                z = np.dot(W_input[center_word], W_output[negative_word])\n",
    "                p = sigmoid(z)\n",
    "                loss = -np.log(1 - p)\n",
    "                total_loss += loss\n",
    "\n",
    "                grad_output = p\n",
    "                grad_input = grad_output * W_output[negative_word]\n",
    "\n",
    "                W_output[negative_word] -= learning_rate * grad_output * W_input[center_word]\n",
    "                W_input[center_word] -= learning_rate * grad_input\n",
    "\n",
    "        print(f\"Iteration {iteration + 1}, Loss: {total_loss}\")\n",
    "\n",
    "    return W_input"
   ],
   "metadata": {
    "collapsed": false,
    "ExecuteTime": {
     "end_time": "2024-06-22T07:29:59.184608Z",
     "start_time": "2024-06-22T07:29:59.167454Z"
    }
   },
   "id": "7333df409560ee3f",
   "outputs": [],
   "execution_count": 48
  },
  {
   "cell_type": "code",
   "source": [
    "def build_cooccurrence_matrix(pairs, vocab, window_size=5):\n",
    "    vocab_size = len(vocab)\n",
    "    cooccurrence_matrix = np.zeros((vocab_size, vocab_size))\n",
    "    \n",
    "    for en,_ in pairs:\n",
    "        \n",
    "        words = re.findall(r'\\w+|[^\\w\\s]', en, re.UNICODE)\n",
    "        indices = [vocab[word] for word in words]\n",
    "        for center_i, center_word in enumerate(indices):\n",
    "            for offset in range(-window_size, window_size + 1):\n",
    "                context_i = center_i + offset\n",
    "                if context_i < 0 or context_i >= len(indices) or center_i == context_i:\n",
    "                    continue\n",
    "                context_word = indices[context_i]\n",
    "                cooccurrence_matrix[center_word, context_word] += 1.0 / abs(offset)\n",
    "                \n",
    "    return cooccurrence_matrix\n",
    "\n",
    "def train_glove(cooccurrence_matrix, embedding_dim=100, iterations=100, learning_rate=0.05, x_max=100, alpha=0.75):\n",
    "    vocab_size = cooccurrence_matrix.shape[0]\n",
    "    W = np.random.randn(vocab_size, embedding_dim)\n",
    "    biases = np.random.randn(vocab_size)\n",
    "    \n",
    "    for iteration in range(iterations):\n",
    "        total_cost = 0\n",
    "        for i in range(vocab_size):\n",
    "            for j in range(vocab_size):\n",
    "                if cooccurrence_matrix[i, j] > 0:\n",
    "                    X_ij = cooccurrence_matrix[i, j]\n",
    "                    weight = (X_ij / x_max) ** alpha if X_ij < x_max else 1\n",
    "                    cost = weight * (np.dot(W[i], W[j]) + biases[i] + biases[j] - np.log(X_ij)) ** 2\n",
    "                    total_cost += 0.5 * cost\n",
    "\n",
    "                    grad_Wi = weight * (np.dot(W[i], W[j]) + biases[i] + biases[j] - np.log(X_ij)) * W[j]\n",
    "                    grad_Wj = weight * (np.dot(W[i], W[j]) + biases[i] + biases[j] - np.log(X_ij)) * W[i]\n",
    "                    grad_bi = weight * (np.dot(W[i], W[j]) + biases[i] + biases[j] - np.log(X_ij))\n",
    "                    grad_bj = weight * (np.dot(W[i], W[j]) + biases[i] + biases[j] - np.log(X_ij))\n",
    "\n",
    "                    W[i] -= learning_rate * grad_Wi\n",
    "                    W[j] -= learning_rate * grad_Wj\n",
    "                    biases[i] -= learning_rate * grad_bi\n",
    "                    biases[j] -= learning_rate * grad_bj\n",
    "\n",
    "        print(f\"Iteration {iteration + 1}, Cost: {total_cost}\")\n",
    "    \n",
    "    return W"
   ],
   "metadata": {
    "collapsed": false,
    "ExecuteTime": {
     "end_time": "2024-06-22T07:29:59.732853Z",
     "start_time": "2024-06-22T07:29:59.722914Z"
    }
   },
   "id": "eef61c87c4eab58e",
   "outputs": [],
   "execution_count": 49
  },
  {
   "cell_type": "code",
   "source": [
    "# 保存词嵌入矩阵\n",
    "def save_embeddings(embeddings, filename):\n",
    "    np.save(filename, embeddings)\n",
    "\n",
    "# 加载词嵌入矩阵\n",
    "def load_embeddings(filename):\n",
    "    return np.load(filename)"
   ],
   "metadata": {
    "collapsed": false,
    "ExecuteTime": {
     "end_time": "2024-06-22T07:30:00.229235Z",
     "start_time": "2024-06-22T07:30:00.212729Z"
    }
   },
   "id": "e3a9f9cce007dd8",
   "outputs": [],
   "execution_count": 50
  },
  {
   "cell_type": "code",
   "source": [
    "cooccurrence_matrix = build_cooccurrence_matrix(data_pairs, vocab)\n",
    "glove_embeddings = train_glove(cooccurrence_matrix)\n",
    "\n",
    "print(\"GloVe embedding matrix shape:\", glove_embeddings.shape)\n",
    "# 保存 GloVe 词嵌入矩阵\n",
    "save_embeddings(glove_embeddings, 'glove_embeddings.npy')"
   ],
   "metadata": {
    "collapsed": false,
    "ExecuteTime": {
     "end_time": "2024-06-22T07:30:10.886792Z",
     "start_time": "2024-06-22T07:30:00.685796Z"
    }
   },
   "id": "6abfed173e60d74e",
   "outputs": [
    {
     "name": "stdout",
     "output_type": "stream",
     "text": [
      "Iteration 1, Cost: 6529.397103992768\n",
      "Iteration 2, Cost: 2549.6716167086265\n",
      "Iteration 3, Cost: 440.9463573979372\n",
      "Iteration 4, Cost: 227.76217958417624\n",
      "Iteration 5, Cost: 158.44262582461403\n",
      "Iteration 6, Cost: 122.79575797723774\n",
      "Iteration 7, Cost: 101.99254971048211\n",
      "Iteration 8, Cost: 88.65929269629595\n",
      "Iteration 9, Cost: 79.44465450510253\n",
      "Iteration 10, Cost: 72.68268258996738\n",
      "Iteration 11, Cost: 67.47738815651215\n",
      "Iteration 12, Cost: 63.31153527635931\n",
      "Iteration 13, Cost: 59.86885351216667\n",
      "Iteration 14, Cost: 56.94715719695931\n",
      "Iteration 15, Cost: 54.41254557009251\n",
      "Iteration 16, Cost: 52.173664723042734\n",
      "Iteration 17, Cost: 50.166527428027514\n",
      "Iteration 18, Cost: 48.34522611515558\n",
      "Iteration 19, Cost: 46.67608215656137\n",
      "Iteration 20, Cost: 45.13386744625902\n",
      "Iteration 21, Cost: 43.69931044371266\n",
      "Iteration 22, Cost: 42.35741714008023\n",
      "Iteration 23, Cost: 41.09631975601388\n",
      "Iteration 24, Cost: 39.90647360341632\n",
      "Iteration 25, Cost: 38.78008764756712\n",
      "Iteration 26, Cost: 37.71071451365065\n",
      "Iteration 27, Cost: 36.692950966870356\n",
      "Iteration 28, Cost: 35.72221606161113\n",
      "Iteration 29, Cost: 34.79458465471882\n",
      "Iteration 30, Cost: 33.90666090112543\n",
      "Iteration 31, Cost: 33.055480981946964\n",
      "Iteration 32, Cost: 32.23843745739913\n",
      "Iteration 33, Cost: 31.45321979661009\n",
      "Iteration 34, Cost: 30.697767139159733\n",
      "Iteration 35, Cost: 29.970230400863834\n",
      "Iteration 36, Cost: 29.26894158880801\n",
      "Iteration 37, Cost: 28.59238873147778\n",
      "Iteration 38, Cost: 27.939195222367804\n",
      "Iteration 39, Cost: 27.308102663004707\n",
      "Iteration 40, Cost: 26.697956503899004\n",
      "Iteration 41, Cost: 26.107693940481457\n",
      "Iteration 42, Cost: 25.536333640324965\n",
      "Iteration 43, Cost: 24.982966968398074\n",
      "Iteration 44, Cost: 24.44675044624994\n",
      "Iteration 45, Cost: 23.926899234307577\n",
      "Iteration 46, Cost: 23.42268146784048\n",
      "Iteration 47, Cost: 22.933413309494778\n",
      "Iteration 48, Cost: 22.45845460677246\n",
      "Iteration 49, Cost: 21.997205063029412\n",
      "Iteration 50, Cost: 21.549100846669937\n",
      "Iteration 51, Cost: 21.113611576150845\n",
      "Iteration 52, Cost: 20.690237628840993\n",
      "Iteration 53, Cost: 20.278507730261968\n",
      "Iteration 54, Cost: 19.877976787144007\n",
      "Iteration 55, Cost: 19.48822393341028\n",
      "Iteration 56, Cost: 19.10885076287048\n",
      "Iteration 57, Cost: 18.739479726279782\n",
      "Iteration 58, Cost: 18.37975267363469\n",
      "Iteration 59, Cost: 18.02932952526893\n",
      "Iteration 60, Cost: 17.687887057561802\n",
      "Iteration 61, Cost: 17.355117790975807\n",
      "Iteration 62, Cost: 17.030728969737066\n",
      "Iteration 63, Cost: 16.714441623839882\n",
      "Iteration 64, Cost: 16.40598970520769\n",
      "Iteration 65, Cost: 16.10511929084041\n",
      "Iteration 66, Cost: 15.811587846618481\n",
      "Iteration 67, Cost: 15.525163546170125\n",
      "Iteration 68, Cost: 15.245624639834332\n",
      "Iteration 69, Cost: 14.972758869299884\n",
      "Iteration 70, Cost: 14.706362923973428\n",
      "Iteration 71, Cost: 14.446241935541446\n",
      "Iteration 72, Cost: 14.19220900755586\n",
      "Iteration 73, Cost: 13.944084777185392\n",
      "Iteration 74, Cost: 13.701697006555781\n",
      "Iteration 75, Cost: 13.464880201346825\n",
      "Iteration 76, Cost: 13.23347525453268\n",
      "Iteration 77, Cost: 13.007329113342852\n",
      "Iteration 78, Cost: 12.786294467696118\n",
      "Iteration 79, Cost: 12.570229458509802\n",
      "Iteration 80, Cost: 12.358997404425965\n",
      "Iteration 81, Cost: 12.152466545618987\n",
      "Iteration 82, Cost: 11.950509803459283\n",
      "Iteration 83, Cost: 11.753004554907333\n",
      "Iteration 84, Cost: 11.559832420604423\n",
      "Iteration 85, Cost: 11.370879065705376\n",
      "Iteration 86, Cost: 11.186034012575366\n",
      "Iteration 87, Cost: 11.005190464539215\n",
      "Iteration 88, Cost: 10.828245139932958\n",
      "Iteration 89, Cost: 10.655098115764284\n",
      "Iteration 90, Cost: 10.485652680340014\n",
      "Iteration 91, Cost: 10.319815194264923\n",
      "Iteration 92, Cost: 10.157494959260033\n",
      "Iteration 93, Cost: 9.99860409428933\n",
      "Iteration 94, Cost: 9.84305741851788\n",
      "Iteration 95, Cost: 9.69077234066113\n",
      "Iteration 96, Cost: 9.54166875431305\n",
      "Iteration 97, Cost: 9.395668938872463\n",
      "Iteration 98, Cost: 9.252697465711783\n",
      "Iteration 99, Cost: 9.112681109256165\n",
      "Iteration 100, Cost: 8.97554876266695\n",
      "GloVe embedding matrix shape: (663, 100)\n"
     ]
    }
   ],
   "execution_count": 51
  },
  {
   "cell_type": "code",
   "source": [
    "# 训练 Skip-gram 模型\n",
    "embedding_dim = 100\n",
    "iterations = 50\n",
    "learning_rate = 0.02\n",
    "negative_samples = 4\n",
    "\n",
    "skipgram_embeddings = train_skipgram(training_data, len(vocab), embedding_dim, iterations, learning_rate, negative_samples)\n",
    "\n",
    "# 打印 Skip-gram 嵌入矩阵的形状\n",
    "print(\"Skip-gram embedding matrix shape:\", skipgram_embeddings.shape)\n"
   ],
   "metadata": {
    "collapsed": false,
    "ExecuteTime": {
     "end_time": "2024-06-22T07:30:34.093575Z",
     "start_time": "2024-06-22T07:30:12.452603Z"
    }
   },
   "id": "16c3ccb6160ff68d",
   "outputs": [
    {
     "name": "stdout",
     "output_type": "stream",
     "text": [
      "Iteration 1, Loss: 129184.80876976343\n"
     ]
    },
    {
     "name": "stderr",
     "output_type": "stream",
     "text": [
      "C:\\Users\\Administrator\\AppData\\Local\\Temp\\ipykernel_33320\\666583213.py:31: RuntimeWarning: divide by zero encountered in log\n",
      "  loss = -np.log(1 - p)\n"
     ]
    },
    {
     "name": "stdout",
     "output_type": "stream",
     "text": [
      "Iteration 2, Loss: inf\n",
      "Iteration 3, Loss: 60928.8337092693\n",
      "Iteration 4, Loss: 49125.20822948345\n",
      "Iteration 5, Loss: 41675.053734827394\n",
      "Iteration 6, Loss: 36203.97347805432\n",
      "Iteration 7, Loss: 31375.213737049296\n",
      "Iteration 8, Loss: 27953.33845185403\n",
      "Iteration 9, Loss: 25465.832723627118\n",
      "Iteration 10, Loss: 22369.154036273983\n",
      "Iteration 11, Loss: 20268.545966687037\n",
      "Iteration 12, Loss: 18755.66236088865\n",
      "Iteration 13, Loss: 17077.218710261808\n",
      "Iteration 14, Loss: 16043.09091301601\n",
      "Iteration 15, Loss: 15213.019004726613\n",
      "Iteration 16, Loss: 14553.044094374533\n",
      "Iteration 17, Loss: 13771.482131854142\n",
      "Iteration 18, Loss: 13163.274641838121\n",
      "Iteration 19, Loss: 12627.254945445935\n",
      "Iteration 20, Loss: 12114.16190893994\n",
      "Iteration 21, Loss: 11786.40374887398\n",
      "Iteration 22, Loss: 11330.424397664845\n",
      "Iteration 23, Loss: 11154.457431184816\n",
      "Iteration 24, Loss: 10752.69734976888\n",
      "Iteration 25, Loss: 10638.478248673335\n",
      "Iteration 26, Loss: 10383.978334345036\n",
      "Iteration 27, Loss: 10326.861779207149\n",
      "Iteration 28, Loss: 10150.386893657635\n",
      "Iteration 29, Loss: 9944.316476477168\n",
      "Iteration 30, Loss: 9971.096461416873\n",
      "Iteration 31, Loss: 9861.071869315718\n",
      "Iteration 32, Loss: 9728.262190104577\n",
      "Iteration 33, Loss: 9635.21687273833\n",
      "Iteration 34, Loss: 9560.58929549668\n",
      "Iteration 35, Loss: 9561.991675306932\n",
      "Iteration 36, Loss: 9394.882978784955\n",
      "Iteration 37, Loss: 9307.154635700934\n",
      "Iteration 38, Loss: 9381.205775764018\n",
      "Iteration 39, Loss: 9256.081744887499\n",
      "Iteration 40, Loss: 9153.417765183174\n",
      "Iteration 41, Loss: 9027.312594224319\n",
      "Iteration 42, Loss: 9091.350162650915\n",
      "Iteration 43, Loss: 9075.839087298087\n",
      "Iteration 44, Loss: 9009.870569282775\n",
      "Iteration 45, Loss: 8942.883449678338\n",
      "Iteration 46, Loss: 8970.140783038085\n",
      "Iteration 47, Loss: 8882.29060804127\n",
      "Iteration 48, Loss: 8849.687083504992\n",
      "Iteration 49, Loss: 8842.310493303425\n",
      "Iteration 50, Loss: 8814.979492010809\n",
      "Skip-gram embedding matrix shape: (663, 100)\n"
     ]
    }
   ],
   "execution_count": 52
  },
  {
   "cell_type": "code",
   "source": "save_embeddings(skipgram_embeddings, 'skipgram_embeddings_small.npy')",
   "metadata": {
    "collapsed": false,
    "ExecuteTime": {
     "end_time": "2024-06-22T07:30:37.302348Z",
     "start_time": "2024-06-22T07:30:37.293831Z"
    }
   },
   "id": "1375c5af9fba11f0",
   "outputs": [],
   "execution_count": 53
  },
  {
   "metadata": {
    "ExecuteTime": {
     "end_time": "2024-06-22T07:31:35.509270Z",
     "start_time": "2024-06-22T07:31:35.441076Z"
    }
   },
   "cell_type": "code",
   "source": [
    "from tqdm.notebook import tqdm  \n",
    "\n",
    "tokenized_sentences = [re.findall(r'\\w+|[^\\w\\s]', en, re.UNICODE) for en, _ in data_pairs]\n",
    "\n",
    "\n",
    "def generate_cbow_training_data(tokenized_sentences, window_size=2):\n",
    "    training_data = []\n",
    "    for sentence in tokenized_sentences:\n",
    "        for i, word in enumerate(sentence):\n",
    "            target_word_idx = vocab[word]\n",
    "            context_start = max(0, i - window_size)\n",
    "            context_end = min(len(sentence), i + window_size + 1)\n",
    "            context_words = [vocab[sentence[j]] for j in range(context_start, context_end) if j != i]\n",
    "            if len(context_words) > 0:\n",
    "                training_data.append((context_words, target_word_idx))\n",
    "    return np.array(training_data)\n"
   ],
   "id": "2f8088bf3c4c06dd",
   "outputs": [],
   "execution_count": 57
  },
  {
   "metadata": {
    "ExecuteTime": {
     "end_time": "2024-06-22T07:31:36.334817Z",
     "start_time": "2024-06-22T07:31:36.315800Z"
    }
   },
   "cell_type": "code",
   "source": [
    "class CBOW:\n",
    "    def __init__(self, vocab_size, embedding_dim):\n",
    "        self.vocab_size = vocab_size\n",
    "        self.embedding_dim = embedding_dim\n",
    "        self.w1 = np.random.rand(vocab_size, embedding_dim)\n",
    "        self.w2 = np.random.rand(embedding_dim, vocab_size)\n",
    "\n",
    "    def softmax(self, x):\n",
    "        e_x = np.exp(x - np.max(x))\n",
    "        return e_x / e_x.sum(axis=0)\n",
    "\n",
    "    def train(self, training_data, epochs, learning_rate):\n",
    "        for epoch in range(epochs):\n",
    "            loss = 0\n",
    "            for context_words_idx, target_word_idx in tqdm(training_data, desc=f\"Epoch {epoch+1}/{epochs}\", leave=False):\n",
    "                h = np.mean(self.w1[context_words_idx], axis=0)\n",
    "                u = np.dot(self.w2.T, h)\n",
    "                y_pred = self.softmax(u)\n",
    "                e = y_pred\n",
    "                e[target_word_idx] -= 1\n",
    "                self.w1[context_words_idx] -= learning_rate * np.dot(self.w2, e).reshape(1, -1) / len(context_words_idx)\n",
    "                self.w2 -= learning_rate * np.outer(h, e)\n",
    "                loss += -np.log(y_pred[target_word_idx])\n",
    "            if epoch % 10 == 0:\n",
    "                print(f'Epoch: {epoch}, Loss: {loss}')\n"
   ],
   "id": "1e04e1644b55a406",
   "outputs": [],
   "execution_count": 58
  },
  {
   "metadata": {
    "ExecuteTime": {
     "end_time": "2024-06-22T07:35:52.270046Z",
     "start_time": "2024-06-22T07:34:16.190998Z"
    }
   },
   "cell_type": "code",
   "source": [
    "cbow_training_data = generate_cbow_training_data(tokenized_sentences)\n",
    "\n",
    "embedding_dim = 50\n",
    "cbow_model = CBOW(len(vocab), embedding_dim)\n",
    "cbow_model.train(cbow_training_data, epochs=100, learning_rate=0.01)\n",
    "\n",
    "cbow_word_embeddings = cbow_model.w1\n",
    "print(cbow_word_embeddings)"
   ],
   "id": "f32ed1b7a688397f",
   "outputs": [
    {
     "name": "stderr",
     "output_type": "stream",
     "text": [
      "C:\\Users\\Administrator\\AppData\\Local\\Temp\\ipykernel_33320\\1865253343.py:16: VisibleDeprecationWarning: Creating an ndarray from ragged nested sequences (which is a list-or-tuple of lists-or-tuples-or ndarrays with different lengths or shapes) is deprecated. If you meant to do this, you must specify 'dtype=object' when creating the ndarray.\n",
      "  return np.array(training_data)\n"
     ]
    },
    {
     "data": {
      "text/plain": [
       "Epoch 1/100:   0%|          | 0/4078 [00:00<?, ?it/s]"
      ],
      "application/vnd.jupyter.widget-view+json": {
       "version_major": 2,
       "version_minor": 0,
       "model_id": "27e38e3e37394c56b1cd54ed7a1a2e0f"
      }
     },
     "metadata": {},
     "output_type": "display_data"
    },
    {
     "name": "stderr",
     "output_type": "stream",
     "text": [
      "C:\\Users\\Administrator\\AppData\\Local\\Temp\\ipykernel_33320\\3703878554.py:23: RuntimeWarning: invalid value encountered in log\n",
      "  loss += -np.log(y_pred[target_word_idx])\n"
     ]
    },
    {
     "name": "stdout",
     "output_type": "stream",
     "text": [
      "Epoch: 0, Loss: nan\n"
     ]
    },
    {
     "data": {
      "text/plain": [
       "Epoch 2/100:   0%|          | 0/4078 [00:00<?, ?it/s]"
      ],
      "application/vnd.jupyter.widget-view+json": {
       "version_major": 2,
       "version_minor": 0,
       "model_id": "116f2e2136254e36a02394092d2f79b7"
      }
     },
     "metadata": {},
     "output_type": "display_data"
    },
    {
     "data": {
      "text/plain": [
       "Epoch 3/100:   0%|          | 0/4078 [00:00<?, ?it/s]"
      ],
      "application/vnd.jupyter.widget-view+json": {
       "version_major": 2,
       "version_minor": 0,
       "model_id": "df4e8d4c51284a7bbaa5c44b99058745"
      }
     },
     "metadata": {},
     "output_type": "display_data"
    },
    {
     "data": {
      "text/plain": [
       "Epoch 4/100:   0%|          | 0/4078 [00:00<?, ?it/s]"
      ],
      "application/vnd.jupyter.widget-view+json": {
       "version_major": 2,
       "version_minor": 0,
       "model_id": "b870cfc45b994fd2b5657fb3e38455d2"
      }
     },
     "metadata": {},
     "output_type": "display_data"
    },
    {
     "data": {
      "text/plain": [
       "Epoch 5/100:   0%|          | 0/4078 [00:00<?, ?it/s]"
      ],
      "application/vnd.jupyter.widget-view+json": {
       "version_major": 2,
       "version_minor": 0,
       "model_id": "bb77cfdd47b149e7bf19f76e1ffc1fb8"
      }
     },
     "metadata": {},
     "output_type": "display_data"
    },
    {
     "data": {
      "text/plain": [
       "Epoch 6/100:   0%|          | 0/4078 [00:00<?, ?it/s]"
      ],
      "application/vnd.jupyter.widget-view+json": {
       "version_major": 2,
       "version_minor": 0,
       "model_id": "ba45d031f00049cbb70bb76b2bd8fd41"
      }
     },
     "metadata": {},
     "output_type": "display_data"
    },
    {
     "data": {
      "text/plain": [
       "Epoch 7/100:   0%|          | 0/4078 [00:00<?, ?it/s]"
      ],
      "application/vnd.jupyter.widget-view+json": {
       "version_major": 2,
       "version_minor": 0,
       "model_id": "91227b12473849199a8517b50776dc8f"
      }
     },
     "metadata": {},
     "output_type": "display_data"
    },
    {
     "data": {
      "text/plain": [
       "Epoch 8/100:   0%|          | 0/4078 [00:00<?, ?it/s]"
      ],
      "application/vnd.jupyter.widget-view+json": {
       "version_major": 2,
       "version_minor": 0,
       "model_id": "9c86422f7ac34e83b97451f833216044"
      }
     },
     "metadata": {},
     "output_type": "display_data"
    },
    {
     "data": {
      "text/plain": [
       "Epoch 9/100:   0%|          | 0/4078 [00:00<?, ?it/s]"
      ],
      "application/vnd.jupyter.widget-view+json": {
       "version_major": 2,
       "version_minor": 0,
       "model_id": "0d6c0d7f07b84cfb9b3b9582dedaecaa"
      }
     },
     "metadata": {},
     "output_type": "display_data"
    },
    {
     "data": {
      "text/plain": [
       "Epoch 10/100:   0%|          | 0/4078 [00:00<?, ?it/s]"
      ],
      "application/vnd.jupyter.widget-view+json": {
       "version_major": 2,
       "version_minor": 0,
       "model_id": "451ab165c8a747bf975df392cdb7533c"
      }
     },
     "metadata": {},
     "output_type": "display_data"
    },
    {
     "data": {
      "text/plain": [
       "Epoch 11/100:   0%|          | 0/4078 [00:00<?, ?it/s]"
      ],
      "application/vnd.jupyter.widget-view+json": {
       "version_major": 2,
       "version_minor": 0,
       "model_id": "654cda516bc54c5791d80514f8a0e4f5"
      }
     },
     "metadata": {},
     "output_type": "display_data"
    },
    {
     "name": "stdout",
     "output_type": "stream",
     "text": [
      "Epoch: 10, Loss: nan\n"
     ]
    },
    {
     "data": {
      "text/plain": [
       "Epoch 12/100:   0%|          | 0/4078 [00:00<?, ?it/s]"
      ],
      "application/vnd.jupyter.widget-view+json": {
       "version_major": 2,
       "version_minor": 0,
       "model_id": "9653c9339cf94f51814211d1e2acb6e3"
      }
     },
     "metadata": {},
     "output_type": "display_data"
    },
    {
     "data": {
      "text/plain": [
       "Epoch 13/100:   0%|          | 0/4078 [00:00<?, ?it/s]"
      ],
      "application/vnd.jupyter.widget-view+json": {
       "version_major": 2,
       "version_minor": 0,
       "model_id": "a0c29a3381414a24968613d074bbbc80"
      }
     },
     "metadata": {},
     "output_type": "display_data"
    },
    {
     "data": {
      "text/plain": [
       "Epoch 14/100:   0%|          | 0/4078 [00:00<?, ?it/s]"
      ],
      "application/vnd.jupyter.widget-view+json": {
       "version_major": 2,
       "version_minor": 0,
       "model_id": "c37fb55fd1f646949a897318e296fdc4"
      }
     },
     "metadata": {},
     "output_type": "display_data"
    },
    {
     "data": {
      "text/plain": [
       "Epoch 15/100:   0%|          | 0/4078 [00:00<?, ?it/s]"
      ],
      "application/vnd.jupyter.widget-view+json": {
       "version_major": 2,
       "version_minor": 0,
       "model_id": "fea8ad95b3bd43cdbd7991dec710ab35"
      }
     },
     "metadata": {},
     "output_type": "display_data"
    },
    {
     "data": {
      "text/plain": [
       "Epoch 16/100:   0%|          | 0/4078 [00:00<?, ?it/s]"
      ],
      "application/vnd.jupyter.widget-view+json": {
       "version_major": 2,
       "version_minor": 0,
       "model_id": "aae143459e064af49a001ae0d9c1b78e"
      }
     },
     "metadata": {},
     "output_type": "display_data"
    },
    {
     "data": {
      "text/plain": [
       "Epoch 17/100:   0%|          | 0/4078 [00:00<?, ?it/s]"
      ],
      "application/vnd.jupyter.widget-view+json": {
       "version_major": 2,
       "version_minor": 0,
       "model_id": "3ef5b43fe90a49eaa27778c8f64fa60e"
      }
     },
     "metadata": {},
     "output_type": "display_data"
    },
    {
     "data": {
      "text/plain": [
       "Epoch 18/100:   0%|          | 0/4078 [00:00<?, ?it/s]"
      ],
      "application/vnd.jupyter.widget-view+json": {
       "version_major": 2,
       "version_minor": 0,
       "model_id": "69251e5389a84f38b948ade4ed8c0c2d"
      }
     },
     "metadata": {},
     "output_type": "display_data"
    },
    {
     "data": {
      "text/plain": [
       "Epoch 19/100:   0%|          | 0/4078 [00:00<?, ?it/s]"
      ],
      "application/vnd.jupyter.widget-view+json": {
       "version_major": 2,
       "version_minor": 0,
       "model_id": "5af5940c731349379c3f636d4f29f8c6"
      }
     },
     "metadata": {},
     "output_type": "display_data"
    },
    {
     "data": {
      "text/plain": [
       "Epoch 20/100:   0%|          | 0/4078 [00:00<?, ?it/s]"
      ],
      "application/vnd.jupyter.widget-view+json": {
       "version_major": 2,
       "version_minor": 0,
       "model_id": "414ddb8629a748f8b3bc5bb5e08146fd"
      }
     },
     "metadata": {},
     "output_type": "display_data"
    },
    {
     "data": {
      "text/plain": [
       "Epoch 21/100:   0%|          | 0/4078 [00:00<?, ?it/s]"
      ],
      "application/vnd.jupyter.widget-view+json": {
       "version_major": 2,
       "version_minor": 0,
       "model_id": "d9414c69af6a4ee4a9d3e6af9a8a86b4"
      }
     },
     "metadata": {},
     "output_type": "display_data"
    },
    {
     "name": "stdout",
     "output_type": "stream",
     "text": [
      "Epoch: 20, Loss: nan\n"
     ]
    },
    {
     "data": {
      "text/plain": [
       "Epoch 22/100:   0%|          | 0/4078 [00:00<?, ?it/s]"
      ],
      "application/vnd.jupyter.widget-view+json": {
       "version_major": 2,
       "version_minor": 0,
       "model_id": "b195e052eddb4b7e88c6fda91fc4ccdf"
      }
     },
     "metadata": {},
     "output_type": "display_data"
    },
    {
     "data": {
      "text/plain": [
       "Epoch 23/100:   0%|          | 0/4078 [00:00<?, ?it/s]"
      ],
      "application/vnd.jupyter.widget-view+json": {
       "version_major": 2,
       "version_minor": 0,
       "model_id": "2aabee8e8c08412aa166dd5b5331f2da"
      }
     },
     "metadata": {},
     "output_type": "display_data"
    },
    {
     "data": {
      "text/plain": [
       "Epoch 24/100:   0%|          | 0/4078 [00:00<?, ?it/s]"
      ],
      "application/vnd.jupyter.widget-view+json": {
       "version_major": 2,
       "version_minor": 0,
       "model_id": "7eb5a87d17f04c0a87b1b590a76186d3"
      }
     },
     "metadata": {},
     "output_type": "display_data"
    },
    {
     "data": {
      "text/plain": [
       "Epoch 25/100:   0%|          | 0/4078 [00:00<?, ?it/s]"
      ],
      "application/vnd.jupyter.widget-view+json": {
       "version_major": 2,
       "version_minor": 0,
       "model_id": "0ff3ef298a694c029473d5e674094ff0"
      }
     },
     "metadata": {},
     "output_type": "display_data"
    },
    {
     "data": {
      "text/plain": [
       "Epoch 26/100:   0%|          | 0/4078 [00:00<?, ?it/s]"
      ],
      "application/vnd.jupyter.widget-view+json": {
       "version_major": 2,
       "version_minor": 0,
       "model_id": "3645511c88ac4f38abd2fab8493209d3"
      }
     },
     "metadata": {},
     "output_type": "display_data"
    },
    {
     "data": {
      "text/plain": [
       "Epoch 27/100:   0%|          | 0/4078 [00:00<?, ?it/s]"
      ],
      "application/vnd.jupyter.widget-view+json": {
       "version_major": 2,
       "version_minor": 0,
       "model_id": "b379ac314d8449cb86fb3afb9188d548"
      }
     },
     "metadata": {},
     "output_type": "display_data"
    },
    {
     "data": {
      "text/plain": [
       "Epoch 28/100:   0%|          | 0/4078 [00:00<?, ?it/s]"
      ],
      "application/vnd.jupyter.widget-view+json": {
       "version_major": 2,
       "version_minor": 0,
       "model_id": "4ed48d6674d94969b95eea8425e617e1"
      }
     },
     "metadata": {},
     "output_type": "display_data"
    },
    {
     "data": {
      "text/plain": [
       "Epoch 29/100:   0%|          | 0/4078 [00:00<?, ?it/s]"
      ],
      "application/vnd.jupyter.widget-view+json": {
       "version_major": 2,
       "version_minor": 0,
       "model_id": "9b219742bdca4c1ca2d9d52594ad77ef"
      }
     },
     "metadata": {},
     "output_type": "display_data"
    },
    {
     "data": {
      "text/plain": [
       "Epoch 30/100:   0%|          | 0/4078 [00:00<?, ?it/s]"
      ],
      "application/vnd.jupyter.widget-view+json": {
       "version_major": 2,
       "version_minor": 0,
       "model_id": "aead9725dabc45469e2c5f0d991c3d04"
      }
     },
     "metadata": {},
     "output_type": "display_data"
    },
    {
     "data": {
      "text/plain": [
       "Epoch 31/100:   0%|          | 0/4078 [00:00<?, ?it/s]"
      ],
      "application/vnd.jupyter.widget-view+json": {
       "version_major": 2,
       "version_minor": 0,
       "model_id": "bf6cd7994b0745eb9dbcf4dd019744b5"
      }
     },
     "metadata": {},
     "output_type": "display_data"
    },
    {
     "name": "stdout",
     "output_type": "stream",
     "text": [
      "Epoch: 30, Loss: nan\n"
     ]
    },
    {
     "data": {
      "text/plain": [
       "Epoch 32/100:   0%|          | 0/4078 [00:00<?, ?it/s]"
      ],
      "application/vnd.jupyter.widget-view+json": {
       "version_major": 2,
       "version_minor": 0,
       "model_id": "9491c18bf16b422081d78da4d824d7fb"
      }
     },
     "metadata": {},
     "output_type": "display_data"
    },
    {
     "data": {
      "text/plain": [
       "Epoch 33/100:   0%|          | 0/4078 [00:00<?, ?it/s]"
      ],
      "application/vnd.jupyter.widget-view+json": {
       "version_major": 2,
       "version_minor": 0,
       "model_id": "f0e112d3ec524416bfa5569c1e4fd7a8"
      }
     },
     "metadata": {},
     "output_type": "display_data"
    },
    {
     "data": {
      "text/plain": [
       "Epoch 34/100:   0%|          | 0/4078 [00:00<?, ?it/s]"
      ],
      "application/vnd.jupyter.widget-view+json": {
       "version_major": 2,
       "version_minor": 0,
       "model_id": "53b24f753a834719907803b84448dba9"
      }
     },
     "metadata": {},
     "output_type": "display_data"
    },
    {
     "data": {
      "text/plain": [
       "Epoch 35/100:   0%|          | 0/4078 [00:00<?, ?it/s]"
      ],
      "application/vnd.jupyter.widget-view+json": {
       "version_major": 2,
       "version_minor": 0,
       "model_id": "15b61a3333d64a809f7ba3fe9efc6720"
      }
     },
     "metadata": {},
     "output_type": "display_data"
    },
    {
     "data": {
      "text/plain": [
       "Epoch 36/100:   0%|          | 0/4078 [00:00<?, ?it/s]"
      ],
      "application/vnd.jupyter.widget-view+json": {
       "version_major": 2,
       "version_minor": 0,
       "model_id": "6606750cd9214e65b4ff9097e33ecfe6"
      }
     },
     "metadata": {},
     "output_type": "display_data"
    },
    {
     "data": {
      "text/plain": [
       "Epoch 37/100:   0%|          | 0/4078 [00:00<?, ?it/s]"
      ],
      "application/vnd.jupyter.widget-view+json": {
       "version_major": 2,
       "version_minor": 0,
       "model_id": "0e44310a93f142d9a11f3f24766824af"
      }
     },
     "metadata": {},
     "output_type": "display_data"
    },
    {
     "data": {
      "text/plain": [
       "Epoch 38/100:   0%|          | 0/4078 [00:00<?, ?it/s]"
      ],
      "application/vnd.jupyter.widget-view+json": {
       "version_major": 2,
       "version_minor": 0,
       "model_id": "d5b53f0dbee148cdb63deb6d6c010fbf"
      }
     },
     "metadata": {},
     "output_type": "display_data"
    },
    {
     "data": {
      "text/plain": [
       "Epoch 39/100:   0%|          | 0/4078 [00:00<?, ?it/s]"
      ],
      "application/vnd.jupyter.widget-view+json": {
       "version_major": 2,
       "version_minor": 0,
       "model_id": "e7e917e5c9e040019953f32627cedb3f"
      }
     },
     "metadata": {},
     "output_type": "display_data"
    },
    {
     "data": {
      "text/plain": [
       "Epoch 40/100:   0%|          | 0/4078 [00:00<?, ?it/s]"
      ],
      "application/vnd.jupyter.widget-view+json": {
       "version_major": 2,
       "version_minor": 0,
       "model_id": "7caba858a2f048a98a1ac73b71a31b80"
      }
     },
     "metadata": {},
     "output_type": "display_data"
    },
    {
     "data": {
      "text/plain": [
       "Epoch 41/100:   0%|          | 0/4078 [00:00<?, ?it/s]"
      ],
      "application/vnd.jupyter.widget-view+json": {
       "version_major": 2,
       "version_minor": 0,
       "model_id": "4e7a2eabb4c74c5c9c31f6a119fb2289"
      }
     },
     "metadata": {},
     "output_type": "display_data"
    },
    {
     "name": "stdout",
     "output_type": "stream",
     "text": [
      "Epoch: 40, Loss: nan\n"
     ]
    },
    {
     "data": {
      "text/plain": [
       "Epoch 42/100:   0%|          | 0/4078 [00:00<?, ?it/s]"
      ],
      "application/vnd.jupyter.widget-view+json": {
       "version_major": 2,
       "version_minor": 0,
       "model_id": "a2bf448f87ce4252a3eff00458ca9bae"
      }
     },
     "metadata": {},
     "output_type": "display_data"
    },
    {
     "data": {
      "text/plain": [
       "Epoch 43/100:   0%|          | 0/4078 [00:00<?, ?it/s]"
      ],
      "application/vnd.jupyter.widget-view+json": {
       "version_major": 2,
       "version_minor": 0,
       "model_id": "c397cfbe47b24582b1bb09c0c197d665"
      }
     },
     "metadata": {},
     "output_type": "display_data"
    },
    {
     "data": {
      "text/plain": [
       "Epoch 44/100:   0%|          | 0/4078 [00:00<?, ?it/s]"
      ],
      "application/vnd.jupyter.widget-view+json": {
       "version_major": 2,
       "version_minor": 0,
       "model_id": "2c6a55dcf6fd4634b52ed853369acfe8"
      }
     },
     "metadata": {},
     "output_type": "display_data"
    },
    {
     "data": {
      "text/plain": [
       "Epoch 45/100:   0%|          | 0/4078 [00:00<?, ?it/s]"
      ],
      "application/vnd.jupyter.widget-view+json": {
       "version_major": 2,
       "version_minor": 0,
       "model_id": "f0509e6e87f94f04988649301b4a2b35"
      }
     },
     "metadata": {},
     "output_type": "display_data"
    },
    {
     "data": {
      "text/plain": [
       "Epoch 46/100:   0%|          | 0/4078 [00:00<?, ?it/s]"
      ],
      "application/vnd.jupyter.widget-view+json": {
       "version_major": 2,
       "version_minor": 0,
       "model_id": "f833bca4a04c483e9e43165db54f196d"
      }
     },
     "metadata": {},
     "output_type": "display_data"
    },
    {
     "data": {
      "text/plain": [
       "Epoch 47/100:   0%|          | 0/4078 [00:00<?, ?it/s]"
      ],
      "application/vnd.jupyter.widget-view+json": {
       "version_major": 2,
       "version_minor": 0,
       "model_id": "64f3e0871ec44f2ebc9137710bf77151"
      }
     },
     "metadata": {},
     "output_type": "display_data"
    },
    {
     "data": {
      "text/plain": [
       "Epoch 48/100:   0%|          | 0/4078 [00:00<?, ?it/s]"
      ],
      "application/vnd.jupyter.widget-view+json": {
       "version_major": 2,
       "version_minor": 0,
       "model_id": "3c79d79486b347a79250e47513252b4b"
      }
     },
     "metadata": {},
     "output_type": "display_data"
    },
    {
     "data": {
      "text/plain": [
       "Epoch 49/100:   0%|          | 0/4078 [00:00<?, ?it/s]"
      ],
      "application/vnd.jupyter.widget-view+json": {
       "version_major": 2,
       "version_minor": 0,
       "model_id": "7526bd6f0e2b48de8ad9a429974b7a84"
      }
     },
     "metadata": {},
     "output_type": "display_data"
    },
    {
     "data": {
      "text/plain": [
       "Epoch 50/100:   0%|          | 0/4078 [00:00<?, ?it/s]"
      ],
      "application/vnd.jupyter.widget-view+json": {
       "version_major": 2,
       "version_minor": 0,
       "model_id": "4bd95b83bd3f4b87b949e6ce27e18fd2"
      }
     },
     "metadata": {},
     "output_type": "display_data"
    },
    {
     "data": {
      "text/plain": [
       "Epoch 51/100:   0%|          | 0/4078 [00:00<?, ?it/s]"
      ],
      "application/vnd.jupyter.widget-view+json": {
       "version_major": 2,
       "version_minor": 0,
       "model_id": "407d70643735416eab904948df8f5fe2"
      }
     },
     "metadata": {},
     "output_type": "display_data"
    },
    {
     "name": "stdout",
     "output_type": "stream",
     "text": [
      "Epoch: 50, Loss: nan\n"
     ]
    },
    {
     "data": {
      "text/plain": [
       "Epoch 52/100:   0%|          | 0/4078 [00:00<?, ?it/s]"
      ],
      "application/vnd.jupyter.widget-view+json": {
       "version_major": 2,
       "version_minor": 0,
       "model_id": "c1c507366b9b40b082809aa31ea49aa8"
      }
     },
     "metadata": {},
     "output_type": "display_data"
    },
    {
     "data": {
      "text/plain": [
       "Epoch 53/100:   0%|          | 0/4078 [00:00<?, ?it/s]"
      ],
      "application/vnd.jupyter.widget-view+json": {
       "version_major": 2,
       "version_minor": 0,
       "model_id": "9b280fa5996e40c2b1ec8caef256cadb"
      }
     },
     "metadata": {},
     "output_type": "display_data"
    },
    {
     "data": {
      "text/plain": [
       "Epoch 54/100:   0%|          | 0/4078 [00:00<?, ?it/s]"
      ],
      "application/vnd.jupyter.widget-view+json": {
       "version_major": 2,
       "version_minor": 0,
       "model_id": "24635477b34b4b45a1d49e335b144368"
      }
     },
     "metadata": {},
     "output_type": "display_data"
    },
    {
     "data": {
      "text/plain": [
       "Epoch 55/100:   0%|          | 0/4078 [00:00<?, ?it/s]"
      ],
      "application/vnd.jupyter.widget-view+json": {
       "version_major": 2,
       "version_minor": 0,
       "model_id": "01e65826ab194888b5ab9774fcdb4716"
      }
     },
     "metadata": {},
     "output_type": "display_data"
    },
    {
     "data": {
      "text/plain": [
       "Epoch 56/100:   0%|          | 0/4078 [00:00<?, ?it/s]"
      ],
      "application/vnd.jupyter.widget-view+json": {
       "version_major": 2,
       "version_minor": 0,
       "model_id": "772c71341bb94418848c31aee5ae6f86"
      }
     },
     "metadata": {},
     "output_type": "display_data"
    },
    {
     "data": {
      "text/plain": [
       "Epoch 57/100:   0%|          | 0/4078 [00:00<?, ?it/s]"
      ],
      "application/vnd.jupyter.widget-view+json": {
       "version_major": 2,
       "version_minor": 0,
       "model_id": "0ab84bf351764766b1dbd9da12a10e4e"
      }
     },
     "metadata": {},
     "output_type": "display_data"
    },
    {
     "data": {
      "text/plain": [
       "Epoch 58/100:   0%|          | 0/4078 [00:00<?, ?it/s]"
      ],
      "application/vnd.jupyter.widget-view+json": {
       "version_major": 2,
       "version_minor": 0,
       "model_id": "ecf8753cece54f9080081c272add4047"
      }
     },
     "metadata": {},
     "output_type": "display_data"
    },
    {
     "data": {
      "text/plain": [
       "Epoch 59/100:   0%|          | 0/4078 [00:00<?, ?it/s]"
      ],
      "application/vnd.jupyter.widget-view+json": {
       "version_major": 2,
       "version_minor": 0,
       "model_id": "a1f7d06826cc4470b7d0ba7901fd3576"
      }
     },
     "metadata": {},
     "output_type": "display_data"
    },
    {
     "data": {
      "text/plain": [
       "Epoch 60/100:   0%|          | 0/4078 [00:00<?, ?it/s]"
      ],
      "application/vnd.jupyter.widget-view+json": {
       "version_major": 2,
       "version_minor": 0,
       "model_id": "9a5ba199fa7945bcbc9fa4b39f6f4251"
      }
     },
     "metadata": {},
     "output_type": "display_data"
    },
    {
     "data": {
      "text/plain": [
       "Epoch 61/100:   0%|          | 0/4078 [00:00<?, ?it/s]"
      ],
      "application/vnd.jupyter.widget-view+json": {
       "version_major": 2,
       "version_minor": 0,
       "model_id": "15fbf8d987314a178280f074fbbfed3c"
      }
     },
     "metadata": {},
     "output_type": "display_data"
    },
    {
     "name": "stdout",
     "output_type": "stream",
     "text": [
      "Epoch: 60, Loss: nan\n"
     ]
    },
    {
     "data": {
      "text/plain": [
       "Epoch 62/100:   0%|          | 0/4078 [00:00<?, ?it/s]"
      ],
      "application/vnd.jupyter.widget-view+json": {
       "version_major": 2,
       "version_minor": 0,
       "model_id": "2b6ead6098bc497f99687c809712e2d6"
      }
     },
     "metadata": {},
     "output_type": "display_data"
    },
    {
     "data": {
      "text/plain": [
       "Epoch 63/100:   0%|          | 0/4078 [00:00<?, ?it/s]"
      ],
      "application/vnd.jupyter.widget-view+json": {
       "version_major": 2,
       "version_minor": 0,
       "model_id": "d71774f112dc40d8823c3fc67cf1e1b1"
      }
     },
     "metadata": {},
     "output_type": "display_data"
    },
    {
     "data": {
      "text/plain": [
       "Epoch 64/100:   0%|          | 0/4078 [00:00<?, ?it/s]"
      ],
      "application/vnd.jupyter.widget-view+json": {
       "version_major": 2,
       "version_minor": 0,
       "model_id": "ed72289682594ef6aa71931019d5e650"
      }
     },
     "metadata": {},
     "output_type": "display_data"
    },
    {
     "data": {
      "text/plain": [
       "Epoch 65/100:   0%|          | 0/4078 [00:00<?, ?it/s]"
      ],
      "application/vnd.jupyter.widget-view+json": {
       "version_major": 2,
       "version_minor": 0,
       "model_id": "cef9029002f449ae956a01713259ddb5"
      }
     },
     "metadata": {},
     "output_type": "display_data"
    },
    {
     "data": {
      "text/plain": [
       "Epoch 66/100:   0%|          | 0/4078 [00:00<?, ?it/s]"
      ],
      "application/vnd.jupyter.widget-view+json": {
       "version_major": 2,
       "version_minor": 0,
       "model_id": "a48ed25789904fa2894130bec158eda1"
      }
     },
     "metadata": {},
     "output_type": "display_data"
    },
    {
     "data": {
      "text/plain": [
       "Epoch 67/100:   0%|          | 0/4078 [00:00<?, ?it/s]"
      ],
      "application/vnd.jupyter.widget-view+json": {
       "version_major": 2,
       "version_minor": 0,
       "model_id": "d8f47c082aae4386b36e2943808647c4"
      }
     },
     "metadata": {},
     "output_type": "display_data"
    },
    {
     "data": {
      "text/plain": [
       "Epoch 68/100:   0%|          | 0/4078 [00:00<?, ?it/s]"
      ],
      "application/vnd.jupyter.widget-view+json": {
       "version_major": 2,
       "version_minor": 0,
       "model_id": "738de222de4a40d9baf40eab91a9d3ec"
      }
     },
     "metadata": {},
     "output_type": "display_data"
    },
    {
     "data": {
      "text/plain": [
       "Epoch 69/100:   0%|          | 0/4078 [00:00<?, ?it/s]"
      ],
      "application/vnd.jupyter.widget-view+json": {
       "version_major": 2,
       "version_minor": 0,
       "model_id": "834d82d968ab4cbab1ff3ecfc7eee4b5"
      }
     },
     "metadata": {},
     "output_type": "display_data"
    },
    {
     "data": {
      "text/plain": [
       "Epoch 70/100:   0%|          | 0/4078 [00:00<?, ?it/s]"
      ],
      "application/vnd.jupyter.widget-view+json": {
       "version_major": 2,
       "version_minor": 0,
       "model_id": "1ca84ace81174d4a95dc59c2df74be62"
      }
     },
     "metadata": {},
     "output_type": "display_data"
    },
    {
     "data": {
      "text/plain": [
       "Epoch 71/100:   0%|          | 0/4078 [00:00<?, ?it/s]"
      ],
      "application/vnd.jupyter.widget-view+json": {
       "version_major": 2,
       "version_minor": 0,
       "model_id": "047827fe0eb144228be47afe24e2a2e4"
      }
     },
     "metadata": {},
     "output_type": "display_data"
    },
    {
     "name": "stdout",
     "output_type": "stream",
     "text": [
      "Epoch: 70, Loss: nan\n"
     ]
    },
    {
     "data": {
      "text/plain": [
       "Epoch 72/100:   0%|          | 0/4078 [00:00<?, ?it/s]"
      ],
      "application/vnd.jupyter.widget-view+json": {
       "version_major": 2,
       "version_minor": 0,
       "model_id": "5006b154516b49cfbcd982c66bdfa24e"
      }
     },
     "metadata": {},
     "output_type": "display_data"
    },
    {
     "data": {
      "text/plain": [
       "Epoch 73/100:   0%|          | 0/4078 [00:00<?, ?it/s]"
      ],
      "application/vnd.jupyter.widget-view+json": {
       "version_major": 2,
       "version_minor": 0,
       "model_id": "805fb24a27114e80a4a8fbe7aba4ea99"
      }
     },
     "metadata": {},
     "output_type": "display_data"
    },
    {
     "data": {
      "text/plain": [
       "Epoch 74/100:   0%|          | 0/4078 [00:00<?, ?it/s]"
      ],
      "application/vnd.jupyter.widget-view+json": {
       "version_major": 2,
       "version_minor": 0,
       "model_id": "89df384669224e35b17be474c5641fb2"
      }
     },
     "metadata": {},
     "output_type": "display_data"
    },
    {
     "data": {
      "text/plain": [
       "Epoch 75/100:   0%|          | 0/4078 [00:00<?, ?it/s]"
      ],
      "application/vnd.jupyter.widget-view+json": {
       "version_major": 2,
       "version_minor": 0,
       "model_id": "43ff93b9930d4945bc6f6fae2cb0dbe7"
      }
     },
     "metadata": {},
     "output_type": "display_data"
    },
    {
     "data": {
      "text/plain": [
       "Epoch 76/100:   0%|          | 0/4078 [00:00<?, ?it/s]"
      ],
      "application/vnd.jupyter.widget-view+json": {
       "version_major": 2,
       "version_minor": 0,
       "model_id": "39d20411dbe34d92808e4db82b790cb0"
      }
     },
     "metadata": {},
     "output_type": "display_data"
    },
    {
     "data": {
      "text/plain": [
       "Epoch 77/100:   0%|          | 0/4078 [00:00<?, ?it/s]"
      ],
      "application/vnd.jupyter.widget-view+json": {
       "version_major": 2,
       "version_minor": 0,
       "model_id": "59aca3f3b7a146e1b64aede3ab912120"
      }
     },
     "metadata": {},
     "output_type": "display_data"
    },
    {
     "data": {
      "text/plain": [
       "Epoch 78/100:   0%|          | 0/4078 [00:00<?, ?it/s]"
      ],
      "application/vnd.jupyter.widget-view+json": {
       "version_major": 2,
       "version_minor": 0,
       "model_id": "79d1149e284e4cb3b06ec2396053dffd"
      }
     },
     "metadata": {},
     "output_type": "display_data"
    },
    {
     "data": {
      "text/plain": [
       "Epoch 79/100:   0%|          | 0/4078 [00:00<?, ?it/s]"
      ],
      "application/vnd.jupyter.widget-view+json": {
       "version_major": 2,
       "version_minor": 0,
       "model_id": "d6b6c97c98ed49d2812a559b1d034e62"
      }
     },
     "metadata": {},
     "output_type": "display_data"
    },
    {
     "data": {
      "text/plain": [
       "Epoch 80/100:   0%|          | 0/4078 [00:00<?, ?it/s]"
      ],
      "application/vnd.jupyter.widget-view+json": {
       "version_major": 2,
       "version_minor": 0,
       "model_id": "ab4cb65dc8a04644a3b979f60055a9a4"
      }
     },
     "metadata": {},
     "output_type": "display_data"
    },
    {
     "data": {
      "text/plain": [
       "Epoch 81/100:   0%|          | 0/4078 [00:00<?, ?it/s]"
      ],
      "application/vnd.jupyter.widget-view+json": {
       "version_major": 2,
       "version_minor": 0,
       "model_id": "423af8f03b6a41fc871b8bea6fc148aa"
      }
     },
     "metadata": {},
     "output_type": "display_data"
    },
    {
     "name": "stdout",
     "output_type": "stream",
     "text": [
      "Epoch: 80, Loss: nan\n"
     ]
    },
    {
     "data": {
      "text/plain": [
       "Epoch 82/100:   0%|          | 0/4078 [00:00<?, ?it/s]"
      ],
      "application/vnd.jupyter.widget-view+json": {
       "version_major": 2,
       "version_minor": 0,
       "model_id": "8c65c66d329b449389250dfef34f71a5"
      }
     },
     "metadata": {},
     "output_type": "display_data"
    },
    {
     "data": {
      "text/plain": [
       "Epoch 83/100:   0%|          | 0/4078 [00:00<?, ?it/s]"
      ],
      "application/vnd.jupyter.widget-view+json": {
       "version_major": 2,
       "version_minor": 0,
       "model_id": "15511dcf53ea4797856d3d67a1c4b1eb"
      }
     },
     "metadata": {},
     "output_type": "display_data"
    },
    {
     "data": {
      "text/plain": [
       "Epoch 84/100:   0%|          | 0/4078 [00:00<?, ?it/s]"
      ],
      "application/vnd.jupyter.widget-view+json": {
       "version_major": 2,
       "version_minor": 0,
       "model_id": "2e800ada206f401dacc5e3e5e52b3ccf"
      }
     },
     "metadata": {},
     "output_type": "display_data"
    },
    {
     "data": {
      "text/plain": [
       "Epoch 85/100:   0%|          | 0/4078 [00:00<?, ?it/s]"
      ],
      "application/vnd.jupyter.widget-view+json": {
       "version_major": 2,
       "version_minor": 0,
       "model_id": "379156ace75244f7aac747d760520999"
      }
     },
     "metadata": {},
     "output_type": "display_data"
    },
    {
     "data": {
      "text/plain": [
       "Epoch 86/100:   0%|          | 0/4078 [00:00<?, ?it/s]"
      ],
      "application/vnd.jupyter.widget-view+json": {
       "version_major": 2,
       "version_minor": 0,
       "model_id": "9059440f60b6489c8c18e1c3b4850f05"
      }
     },
     "metadata": {},
     "output_type": "display_data"
    },
    {
     "data": {
      "text/plain": [
       "Epoch 87/100:   0%|          | 0/4078 [00:00<?, ?it/s]"
      ],
      "application/vnd.jupyter.widget-view+json": {
       "version_major": 2,
       "version_minor": 0,
       "model_id": "3e146586304640e09f4fe7cea35fcf8c"
      }
     },
     "metadata": {},
     "output_type": "display_data"
    },
    {
     "data": {
      "text/plain": [
       "Epoch 88/100:   0%|          | 0/4078 [00:00<?, ?it/s]"
      ],
      "application/vnd.jupyter.widget-view+json": {
       "version_major": 2,
       "version_minor": 0,
       "model_id": "af14390361f4453cb856022523b1cf46"
      }
     },
     "metadata": {},
     "output_type": "display_data"
    },
    {
     "data": {
      "text/plain": [
       "Epoch 89/100:   0%|          | 0/4078 [00:00<?, ?it/s]"
      ],
      "application/vnd.jupyter.widget-view+json": {
       "version_major": 2,
       "version_minor": 0,
       "model_id": "b8cc6bcbc647466cad440ce9162ea311"
      }
     },
     "metadata": {},
     "output_type": "display_data"
    },
    {
     "data": {
      "text/plain": [
       "Epoch 90/100:   0%|          | 0/4078 [00:00<?, ?it/s]"
      ],
      "application/vnd.jupyter.widget-view+json": {
       "version_major": 2,
       "version_minor": 0,
       "model_id": "0da084e4ef964464b76009997a7184bc"
      }
     },
     "metadata": {},
     "output_type": "display_data"
    },
    {
     "data": {
      "text/plain": [
       "Epoch 91/100:   0%|          | 0/4078 [00:00<?, ?it/s]"
      ],
      "application/vnd.jupyter.widget-view+json": {
       "version_major": 2,
       "version_minor": 0,
       "model_id": "071d99335e394e3b80ffa1b53eaf9a6d"
      }
     },
     "metadata": {},
     "output_type": "display_data"
    },
    {
     "name": "stdout",
     "output_type": "stream",
     "text": [
      "Epoch: 90, Loss: nan\n"
     ]
    },
    {
     "data": {
      "text/plain": [
       "Epoch 92/100:   0%|          | 0/4078 [00:00<?, ?it/s]"
      ],
      "application/vnd.jupyter.widget-view+json": {
       "version_major": 2,
       "version_minor": 0,
       "model_id": "4aa78e87a039484dbb2250d0272d46bb"
      }
     },
     "metadata": {},
     "output_type": "display_data"
    },
    {
     "data": {
      "text/plain": [
       "Epoch 93/100:   0%|          | 0/4078 [00:00<?, ?it/s]"
      ],
      "application/vnd.jupyter.widget-view+json": {
       "version_major": 2,
       "version_minor": 0,
       "model_id": "0c3cb9585f594e7291d4099595b4c176"
      }
     },
     "metadata": {},
     "output_type": "display_data"
    },
    {
     "data": {
      "text/plain": [
       "Epoch 94/100:   0%|          | 0/4078 [00:00<?, ?it/s]"
      ],
      "application/vnd.jupyter.widget-view+json": {
       "version_major": 2,
       "version_minor": 0,
       "model_id": "bc4fdf7ec74348118bbcd65877fef37d"
      }
     },
     "metadata": {},
     "output_type": "display_data"
    },
    {
     "data": {
      "text/plain": [
       "Epoch 95/100:   0%|          | 0/4078 [00:00<?, ?it/s]"
      ],
      "application/vnd.jupyter.widget-view+json": {
       "version_major": 2,
       "version_minor": 0,
       "model_id": "0fe03f9005714518857ca44fe50b94d5"
      }
     },
     "metadata": {},
     "output_type": "display_data"
    },
    {
     "data": {
      "text/plain": [
       "Epoch 96/100:   0%|          | 0/4078 [00:00<?, ?it/s]"
      ],
      "application/vnd.jupyter.widget-view+json": {
       "version_major": 2,
       "version_minor": 0,
       "model_id": "7417ae205032408eafe61ae02ac8dc1e"
      }
     },
     "metadata": {},
     "output_type": "display_data"
    },
    {
     "data": {
      "text/plain": [
       "Epoch 97/100:   0%|          | 0/4078 [00:00<?, ?it/s]"
      ],
      "application/vnd.jupyter.widget-view+json": {
       "version_major": 2,
       "version_minor": 0,
       "model_id": "2bb765c62add4adc8447080a9c8b7069"
      }
     },
     "metadata": {},
     "output_type": "display_data"
    },
    {
     "data": {
      "text/plain": [
       "Epoch 98/100:   0%|          | 0/4078 [00:00<?, ?it/s]"
      ],
      "application/vnd.jupyter.widget-view+json": {
       "version_major": 2,
       "version_minor": 0,
       "model_id": "8de4434f984347608b13c8910f6629f7"
      }
     },
     "metadata": {},
     "output_type": "display_data"
    },
    {
     "data": {
      "text/plain": [
       "Epoch 99/100:   0%|          | 0/4078 [00:00<?, ?it/s]"
      ],
      "application/vnd.jupyter.widget-view+json": {
       "version_major": 2,
       "version_minor": 0,
       "model_id": "df9f9505c71046478f8e9f42134e18e8"
      }
     },
     "metadata": {},
     "output_type": "display_data"
    },
    {
     "data": {
      "text/plain": [
       "Epoch 100/100:   0%|          | 0/4078 [00:00<?, ?it/s]"
      ],
      "application/vnd.jupyter.widget-view+json": {
       "version_major": 2,
       "version_minor": 0,
       "model_id": "b409246e1f0a45349fbfdca6fd5371ff"
      }
     },
     "metadata": {},
     "output_type": "display_data"
    },
    {
     "name": "stdout",
     "output_type": "stream",
     "text": [
      "[[ 0.34204738  0.50871633  0.95809491 ...  0.03879069  0.96232111\n",
      "   0.54860251]\n",
      " [ 0.35353445  0.29523667  0.64176126 ...  0.7314443   0.96386474\n",
      "   0.95476344]\n",
      " [ 0.58760124  0.98951303  0.23486261 ...  0.57312616  0.28429103\n",
      "   0.49596012]\n",
      " ...\n",
      " [ 0.87961555  0.40379252  0.16475303 ...  0.21165309  0.53835406\n",
      "   0.65874318]\n",
      " [ 0.28871213  0.76753156  1.05534213 ...  0.13192158  0.27054625\n",
      "   0.52804656]\n",
      " [ 0.82142559  0.65891681 -0.20109087 ...  0.18597281  0.27298787\n",
      "   0.65136454]]\n"
     ]
    }
   ],
   "execution_count": 60
  },
  {
   "cell_type": "code",
   "source": [
    "def cosine_similarity(vec1, vec2):\n",
    "    dot_product = np.dot(vec1, vec2)\n",
    "    norm_vec1 = np.linalg.norm(vec1)\n",
    "    norm_vec2 = np.linalg.norm(vec2)\n",
    "    return dot_product / (norm_vec1 * norm_vec2)\n",
    "# 获取词向量\n",
    "def get_word_vector(word, vocab, embeddings):\n",
    "    index = vocab.get(word, vocab['<UNK>'])\n",
    "    return embeddings[index]\n",
    "# 去除标点符号的函数\n",
    "def preprocess_sentence(sentence):\n",
    "    return re.sub(r'[^\\w\\s]', '', sentence)\n",
    "\n",
    "def get_similarity(word1, word2, vocab, embeddings):\n",
    "    vector1 = get_word_vector(word1, vocab, embeddings)\n",
    "    vector2 = get_word_vector(word2, vocab, embeddings)\n",
    "\n",
    "    return cosine_similarity(vector1, vector2)"
   ],
   "metadata": {
    "collapsed": false,
    "ExecuteTime": {
     "end_time": "2024-06-22T05:50:11.186227Z",
     "start_time": "2024-06-22T05:50:11.176657Z"
    }
   },
   "id": "66fef28058dee34f",
   "outputs": [],
   "execution_count": 27
  },
  {
   "cell_type": "code",
   "source": [
    "# loaded_embeddings = load_embeddings('glove_embeddings.npy')\n",
    "loaded_embeddings = load_embeddings('skipgram_embeddings.npy')\n",
    "\n",
    "\n",
    "# 读取预训练embdding\n",
    "print(\"Loaded embedding matrix shape:\", loaded_embeddings.shape)"
   ],
   "metadata": {
    "collapsed": false,
    "ExecuteTime": {
     "end_time": "2024-06-22T05:50:12.138906Z",
     "start_time": "2024-06-22T05:50:12.126392Z"
    }
   },
   "id": "a4caaa6e373edb8b",
   "outputs": [
    {
     "name": "stdout",
     "output_type": "stream",
     "text": [
      "Loaded embedding matrix shape: (663, 100)\n"
     ]
    }
   ],
   "execution_count": 28
  },
  {
   "metadata": {
    "ExecuteTime": {
     "end_time": "2024-06-22T07:38:02.595662Z",
     "start_time": "2024-06-22T07:38:02.576183Z"
    }
   },
   "cell_type": "code",
   "source": [
    "reverse_vocabulary = {i: word for word, i in vocab.items()}\n",
    "reverse_vocabulary"
   ],
   "id": "fd14873a46e46ce0",
   "outputs": [
    {
     "data": {
      "text/plain": [
       "{0: '<PAD>',\n",
       " 1: '<SOS>',\n",
       " 2: '<EOS>',\n",
       " 3: '<UNK>',\n",
       " 4: 'hi',\n",
       " 5: '.',\n",
       " 6: 'run',\n",
       " 7: 'wait',\n",
       " 8: '!',\n",
       " 9: 'begin',\n",
       " 10: 'hello',\n",
       " 11: 'i',\n",
       " 12: 'won',\n",
       " 13: 'oh',\n",
       " 14: 'no',\n",
       " 15: 'cheers',\n",
       " 16: 'got',\n",
       " 17: 'it',\n",
       " 18: '?',\n",
       " 19: 'he',\n",
       " 20: 'ran',\n",
       " 21: 'hop',\n",
       " 22: 'in',\n",
       " 23: 'quit',\n",
       " 24: \"'\",\n",
       " 25: 'm',\n",
       " 26: 'ok',\n",
       " 27: 'up',\n",
       " 28: 'listen',\n",
       " 29: 'way',\n",
       " 30: 'really',\n",
       " 31: 'try',\n",
       " 32: 'we',\n",
       " 33: 'why',\n",
       " 34: 'me',\n",
       " 35: 'ask',\n",
       " 36: 'tom',\n",
       " 37: 'awesome',\n",
       " 38: 'be',\n",
       " 39: 'calm',\n",
       " 40: 'fair',\n",
       " 41: 'kind',\n",
       " 42: 'nice',\n",
       " 43: 'call',\n",
       " 44: 'us',\n",
       " 45: 'come',\n",
       " 46: 'get',\n",
       " 47: 'out',\n",
       " 48: 'go',\n",
       " 49: 'away',\n",
       " 50: 'home',\n",
       " 51: 'goodbye',\n",
       " 52: 'hang',\n",
       " 53: 'on',\n",
       " 54: 'came',\n",
       " 55: 'runs',\n",
       " 56: 'help',\n",
       " 57: 'hit',\n",
       " 58: 'hold',\n",
       " 59: 'hug',\n",
       " 60: 'agree',\n",
       " 61: 'ill',\n",
       " 62: 'sad',\n",
       " 63: 'wet',\n",
       " 64: 's',\n",
       " 65: 'join',\n",
       " 66: 'keep',\n",
       " 67: 'kiss',\n",
       " 68: 'perfect',\n",
       " 69: 'see',\n",
       " 70: 'you',\n",
       " 71: 'shut',\n",
       " 72: 'skip',\n",
       " 73: 'take',\n",
       " 74: 'wake',\n",
       " 75: 'wash',\n",
       " 76: 'know',\n",
       " 77: 'welcome',\n",
       " 78: 'who',\n",
       " 79: 'not',\n",
       " 80: 'win',\n",
       " 81: 'back',\n",
       " 82: 'off',\n",
       " 83: 'still',\n",
       " 84: 'beats',\n",
       " 85: 'cuff',\n",
       " 86: 'him',\n",
       " 87: 'drive',\n",
       " 88: 'down',\n",
       " 89: 'lost',\n",
       " 90: 'real',\n",
       " 91: 'ahead',\n",
       " 92: 'good',\n",
       " 93: 'job',\n",
       " 94: 'grab',\n",
       " 95: 'have',\n",
       " 96: 'fun',\n",
       " 97: 'tries',\n",
       " 98: 'how',\n",
       " 99: 'cute',\n",
       " 100: 'humor',\n",
       " 101: 'hurry',\n",
       " 102: 'did',\n",
       " 103: 'forgot',\n",
       " 104: 'resign',\n",
       " 105: 'll',\n",
       " 106: 'pay',\n",
       " 107: 'busy',\n",
       " 108: 'cold',\n",
       " 109: 'cool',\n",
       " 110: 'fine',\n",
       " 111: 'full',\n",
       " 112: 'sick',\n",
       " 113: 'tall',\n",
       " 114: 'leave',\n",
       " 115: 'let',\n",
       " 116: 'look',\n",
       " 117: 'say',\n",
       " 118: 'what',\n",
       " 119: 'she',\n",
       " 120: 'sit',\n",
       " 121: 'stand',\n",
       " 122: 'terrific',\n",
       " 123: 'they',\n",
       " 124: 'died',\n",
       " 125: 'lied',\n",
       " 126: 'swam',\n",
       " 127: 'trust',\n",
       " 128: 'hard',\n",
       " 129: 'some',\n",
       " 130: 'this',\n",
       " 131: 'use',\n",
       " 132: 'birds',\n",
       " 133: 'fly',\n",
       " 134: 'catch',\n",
       " 135: 'do',\n",
       " 136: 'now',\n",
       " 137: 'dogs',\n",
       " 138: 'bark',\n",
       " 139: 'don',\n",
       " 140: 't',\n",
       " 141: 'cry',\n",
       " 142: 'excuse',\n",
       " 143: 'fantastic',\n",
       " 144: 'feel',\n",
       " 145: 'follow',\n",
       " 146: 'luck',\n",
       " 147: 'goodnight',\n",
       " 148: 'that',\n",
       " 149: 'a',\n",
       " 150: 'dj',\n",
       " 151: 'lazy',\n",
       " 152: 'fire',\n",
       " 153: 'awful',\n",
       " 154: 'weird',\n",
       " 155: 'am',\n",
       " 156: 'okay',\n",
       " 157: 'clapped',\n",
       " 158: 'give',\n",
       " 159: 'hope',\n",
       " 160: 'so',\n",
       " 161: 'laughed',\n",
       " 162: 'promise',\n",
       " 163: 'saw',\n",
       " 164: 'was',\n",
       " 165: 'shy',\n",
       " 166: 'swim',\n",
       " 167: 'man',\n",
       " 168: 'bored',\n",
       " 169: 'first',\n",
       " 170: 'right',\n",
       " 171: 'sorry',\n",
       " 172: 'young',\n",
       " 173: 'is',\n",
       " 174: 'far',\n",
       " 175: 'snowed',\n",
       " 176: '3',\n",
       " 177: ':',\n",
       " 178: '30',\n",
       " 179: 'food',\n",
       " 180: 'free',\n",
       " 181: 'late',\n",
       " 182: 'true',\n",
       " 183: 'them',\n",
       " 184: 'kill',\n",
       " 185: 'lie',\n",
       " 186: 'move',\n",
       " 187: 'over',\n",
       " 188: 'of',\n",
       " 189: 'course',\n",
       " 190: 'please',\n",
       " 191: 'open',\n",
       " 192: 'read',\n",
       " 193: 'above',\n",
       " 194: 'cried',\n",
       " 195: 'tried',\n",
       " 196: 'walks',\n",
       " 197: 'tight',\n",
       " 198: 'slow',\n",
       " 199: 'stay',\n",
       " 200: 'stop',\n",
       " 201: 'care',\n",
       " 202: 'thank',\n",
       " 203: 'left',\n",
       " 204: 'time',\n",
       " 205: 'slept',\n",
       " 206: 'swims',\n",
       " 207: 'waved',\n",
       " 208: 'turn',\n",
       " 209: 'here',\n",
       " 210: 'watch',\n",
       " 211: 'well',\n",
       " 212: 'done',\n",
       " 213: 'cares',\n",
       " 214: 'wonderful',\n",
       " 215: 'idiot',\n",
       " 216: 'stink',\n",
       " 217: 'all',\n",
       " 218: 'aboard',\n",
       " 219: 'wrong',\n",
       " 220: 'patient',\n",
       " 221: 'sing',\n",
       " 222: 'can',\n",
       " 223: 'definitely',\n",
       " 224: 'fill',\n",
       " 225: 'god',\n",
       " 226: 'exists',\n",
       " 227: 'night',\n",
       " 228: 'gave',\n",
       " 229: 'mean',\n",
       " 230: 'poor',\n",
       " 231: ',',\n",
       " 232: 'hey',\n",
       " 233: 'relax',\n",
       " 234: 'lovely',\n",
       " 235: 'work',\n",
       " 236: 'short',\n",
       " 237: 'cook',\n",
       " 238: 'eat',\n",
       " 239: 'envy',\n",
       " 240: 'her',\n",
       " 241: 'hate',\n",
       " 242: 'like',\n",
       " 243: 'tea',\n",
       " 244: 'love',\n",
       " 245: 'miss',\n",
       " 246: 'need',\n",
       " 247: 'think',\n",
       " 248: 'hero',\n",
       " 249: 'liar',\n",
       " 250: 'buying',\n",
       " 251: 'humble',\n",
       " 252: 'single',\n",
       " 253: 'sleepy',\n",
       " 254: 'fat',\n",
       " 255: 'thirty',\n",
       " 256: 'ignore',\n",
       " 257: 'great',\n",
       " 258: 'just',\n",
       " 259: 'going',\n",
       " 260: 'quiet',\n",
       " 261: 'die',\n",
       " 262: 'pray',\n",
       " 263: 'walk',\n",
       " 264: 'there',\n",
       " 265: 'comment',\n",
       " 266: 'problem',\n",
       " 267: 'once',\n",
       " 268: 'again',\n",
       " 269: 'smiled',\n",
       " 270: 'sharp',\n",
       " 271: 'step',\n",
       " 272: 'aside',\n",
       " 273: 'study',\n",
       " 274: 'hurts',\n",
       " 275: 'flies',\n",
       " 276: 'failed',\n",
       " 277: 'yawned',\n",
       " 278: 're',\n",
       " 279: 'boys',\n",
       " 280: 'new',\n",
       " 281: 'where',\n",
       " 282: 'are',\n",
       " 283: 'next',\n",
       " 284: 'wood',\n",
       " 285: 'burns',\n",
       " 286: 'mad',\n",
       " 287: 'friendly',\n",
       " 288: 'punctual',\n",
       " 289: 'break',\n",
       " 290: 'inside',\n",
       " 291: 'count',\n",
       " 292: 'as',\n",
       " 293: 'laugh',\n",
       " 294: 'panic',\n",
       " 295: 'shoot',\n",
       " 296: 'shout',\n",
       " 297: 'worry',\n",
       " 298: 'dressed',\n",
       " 299: 'serious',\n",
       " 300: 'alone',\n",
       " 301: 'strong',\n",
       " 302: 'curious',\n",
       " 303: 'strange',\n",
       " 304: 'coming',\n",
       " 305: 'buy',\n",
       " 306: 'tapes',\n",
       " 307: 'bread',\n",
       " 308: 'weak',\n",
       " 309: 'wine',\n",
       " 310: 'heard',\n",
       " 311: 'fish',\n",
       " 312: 'jazz',\n",
       " 313: 'live',\n",
       " 314: 'face',\n",
       " 315: 'glue',\n",
       " 316: 'overslept',\n",
       " 317: 'said',\n",
       " 318: 'smell',\n",
       " 319: 'gas',\n",
       " 320: 'want',\n",
       " 321: 'more',\n",
       " 322: 'will',\n",
       " 323: 'obey',\n",
       " 324: 'attend',\n",
       " 325: '17',\n",
       " 326: 'too',\n",
       " 327: 'loser',\n",
       " 328: 'at',\n",
       " 329: 'married',\n",
       " 330: 'reading',\n",
       " 331: 'thirsty',\n",
       " 332: 'hurt',\n",
       " 333: 'tasty',\n",
       " 334: 'yours',\n",
       " 335: 'my',\n",
       " 336: 'spring',\n",
       " 337: 'trying',\n",
       " 338: 'start',\n",
       " 339: 'life',\n",
       " 340: 'around',\n",
       " 341: 'lunch',\n",
       " 342: 'many',\n",
       " 343: 'thanks',\n",
       " 344: 'money',\n",
       " 345: 'talks',\n",
       " 346: 'timing',\n",
       " 347: 'one',\n",
       " 348: 'release',\n",
       " 349: 'bit',\n",
       " 350: 'mine',\n",
       " 351: 'soft',\n",
       " 352: 'hugged',\n",
       " 353: 'kissed',\n",
       " 354: 'ice',\n",
       " 355: 'blushed',\n",
       " 356: 'frowned',\n",
       " 357: 'drunk',\n",
       " 358: 'happy',\n",
       " 359: 'tired',\n",
       " 360: 'for',\n",
       " 361: 'both',\n",
       " 362: 'rest',\n",
       " 363: 'pity',\n",
       " 364: 'drew',\n",
       " 365: 'dying',\n",
       " 366: 'whose',\n",
       " 367: 'floats',\n",
       " 368: 'slowly',\n",
       " 369: 'made',\n",
       " 370: 'anything',\n",
       " 371: 'sure',\n",
       " 372: 'realistic',\n",
       " 373: 'bring',\n",
       " 374: 'smoke',\n",
       " 375: 'your',\n",
       " 376: 'best',\n",
       " 377: 'bother',\n",
       " 378: 'bug',\n",
       " 379: 'safely',\n",
       " 380: 'examine',\n",
       " 381: 'ghosts',\n",
       " 382: 'exist',\n",
       " 383: 'evening',\n",
       " 384: 'morning',\n",
       " 385: 'angry',\n",
       " 386: 'has',\n",
       " 387: 'car',\n",
       " 388: 'likes',\n",
       " 389: 'loves',\n",
       " 390: 'brave',\n",
       " 391: 'annoying',\n",
       " 392: 'horrible',\n",
       " 393: 'school',\n",
       " 394: 'admire',\n",
       " 395: 'almost',\n",
       " 396: 'praying',\n",
       " 397: 'ate',\n",
       " 398: 'apples',\n",
       " 399: 'caviar',\n",
       " 400: 'called',\n",
       " 401: 'dog',\n",
       " 402: 'map',\n",
       " 403: 'beans',\n",
       " 404: 'candy',\n",
       " 405: 'these',\n",
       " 406: 'music',\n",
       " 407: 'missed',\n",
       " 408: 'cab',\n",
       " 409: 'book',\n",
       " 410: 'understand',\n",
       " 411: 'sue',\n",
       " 412: 'ears',\n",
       " 413: 'bleeding',\n",
       " 414: 'innocent',\n",
       " 415: 'pregnant',\n",
       " 416: 'the',\n",
       " 417: 'thrilled',\n",
       " 418: 've',\n",
       " 419: 'decided',\n",
       " 420: 'idea',\n",
       " 421: 'seen',\n",
       " 422: 'ideas',\n",
       " 423: 'matter',\n",
       " 424: 'monday',\n",
       " 425: 'amazing',\n",
       " 426: 'obvious',\n",
       " 427: 'raining',\n",
       " 428: 'snowing',\n",
       " 429: 'big',\n",
       " 430: 'looking',\n",
       " 431: 'smiling',\n",
       " 432: 'working',\n",
       " 433: 'goes',\n",
       " 434: 'closely',\n",
       " 435: 'mary',\n",
       " 436: 'may',\n",
       " 437: 'quietly',\n",
       " 438: 'eyes',\n",
       " 439: 'knows',\n",
       " 440: 'nobody',\n",
       " 441: 'asked',\n",
       " 442: 'box',\n",
       " 443: 'soon',\n",
       " 444: 'then',\n",
       " 445: 'shame',\n",
       " 446: 'upset',\n",
       " 447: 'someone',\n",
       " 448: 'speak',\n",
       " 449: 'softly',\n",
       " 450: 'with',\n",
       " 451: 'gawking',\n",
       " 452: 'staring',\n",
       " 453: 'talking',\n",
       " 454: 'whining',\n",
       " 455: 'yelling',\n",
       " 456: 'sweet',\n",
       " 457: 'dreams',\n",
       " 458: 'easy',\n",
       " 459: 'tell',\n",
       " 460: 'crazy',\n",
       " 461: 'refused',\n",
       " 462: 'fake',\n",
       " 463: 'gone',\n",
       " 464: 'kids',\n",
       " 465: 'followed',\n",
       " 466: 'clean',\n",
       " 467: 'smart',\n",
       " 468: 'sat',\n",
       " 469: 'told',\n",
       " 470: 'vanished',\n",
       " 471: 'unbelievable',\n",
       " 472: 'vote',\n",
       " 473: 'and',\n",
       " 474: 'succeeded',\n",
       " 475: 'surrender',\n",
       " 476: 'adults',\n",
       " 477: 'heroes',\n",
       " 478: 'hiding',\n",
       " 479: 'humans',\n",
       " 480: 'people',\n",
       " 481: 'built',\n",
       " 482: 'years',\n",
       " 483: 'passed',\n",
       " 484: 'else',\n",
       " 485: 'ready',\n",
       " 486: 'key',\n",
       " 487: 'security',\n",
       " 488: 'skate',\n",
       " 489: 'check',\n",
       " 490: 'reply',\n",
       " 491: 'write',\n",
       " 492: 'draw',\n",
       " 493: 'circle',\n",
       " 494: 'drink',\n",
       " 495: 'flowers',\n",
       " 496: 'bloom',\n",
       " 497: 'thief',\n",
       " 498: 'type',\n",
       " 499: 'fool',\n",
       " 500: 'to',\n",
       " 501: 'sells',\n",
       " 502: 'cars',\n",
       " 503: 'shot',\n",
       " 504: 'fast',\n",
       " 505: 'wants',\n",
       " 506: 'studying',\n",
       " 507: 'about',\n",
       " 508: 'beautiful',\n",
       " 509: 'divorced',\n",
       " 510: 'very',\n",
       " 511: 'approved',\n",
       " 512: 'believe',\n",
       " 513: 'despise',\n",
       " 514: 'didn',\n",
       " 515: 'pass',\n",
       " 516: 'fed',\n",
       " 517: 'lonely',\n",
       " 518: 'unwell',\n",
       " 519: 'felt',\n",
       " 520: 'boat',\n",
       " 521: 'an',\n",
       " 522: 'egg',\n",
       " 523: 'sports',\n",
       " 524: 'sweets',\n",
       " 525: 'coffee',\n",
       " 526: 'movies',\n",
       " 527: 'nature',\n",
       " 528: 'boston',\n",
       " 529: 'must',\n",
       " 530: 'taxi',\n",
       " 531: 'advice',\n",
       " 532: 'respect',\n",
       " 533: 'should',\n",
       " 534: 'twitter',\n",
       " 535: 'student',\n",
       " 536: 'teacher',\n",
       " 537: 'exhausted',\n",
       " 538: 'diet',\n",
       " 539: 'stupid',\n",
       " 540: 'eating',\n",
       " 541: 'paper',\n",
       " 542: 'looks',\n",
       " 543: 'might',\n",
       " 544: 'rain',\n",
       " 545: 'takes',\n",
       " 546: 'secret',\n",
       " 547: 'business',\n",
       " 548: 'freezing',\n",
       " 549: 'improved',\n",
       " 550: 'treat',\n",
       " 551: 'early',\n",
       " 552: 'long',\n",
       " 553: 'loud',\n",
       " 554: 'safe',\n",
       " 555: 'lock',\n",
       " 556: 'gate',\n",
       " 557: 'blind',\n",
       " 558: 'make',\n",
       " 559: 'quick',\n",
       " 560: 'mortal',\n",
       " 561: 'meet',\n",
       " 562: 'foot',\n",
       " 563: 'head',\n",
       " 564: 'aches',\n",
       " 565: 'pen',\n",
       " 566: 'never',\n",
       " 567: 'pace',\n",
       " 568: 'yourself',\n",
       " 569: 'gambling',\n",
       " 570: 'save',\n",
       " 571: 'later',\n",
       " 572: 'shake',\n",
       " 573: 'hand',\n",
       " 574: 'shall',\n",
       " 575: 'blue',\n",
       " 576: 'hated',\n",
       " 577: 'dieting',\n",
       " 578: 'show',\n",
       " 579: 'door',\n",
       " 580: 'beside',\n",
       " 581: 'somebody',\n",
       " 582: 'clearly',\n",
       " 583: 'stir',\n",
       " 584: 'soup',\n",
       " 585: 'meddling',\n",
       " 586: 'shooting',\n",
       " 587: 'worrying',\n",
       " 588: 'straighten',\n",
       " 589: 'stuff',\n",
       " 590: 'happens',\n",
       " 591: 'talk',\n",
       " 592: 'cheap',\n",
       " 593: 'anyway',\n",
       " 594: 'bell',\n",
       " 595: 'rang',\n",
       " 596: 'armed',\n",
       " 597: 'wig',\n",
       " 598: 'throw',\n",
       " 599: 'today',\n",
       " 600: 'applauded',\n",
       " 601: 'fell',\n",
       " 602: 'graduated',\n",
       " 603: 'hick',\n",
       " 604: 'absent',\n",
       " 605: 'boring',\n",
       " 606: 'hot',\n",
       " 607: 'stingy',\n",
       " 608: 'isn',\n",
       " 609: 'old',\n",
       " 610: 'fired',\n",
       " 611: 'moment',\n",
       " 612: 'kept',\n",
       " 613: 'were',\n",
       " 614: 'friends',\n",
       " 615: 'special',\n",
       " 616: 'worried',\n",
       " 617: 'arrived',\n",
       " 618: 'hired',\n",
       " 619: 'blame',\n",
       " 620: 'lying',\n",
       " 621: 'could',\n",
       " 622: 'pale',\n",
       " 623: 'fail',\n",
       " 624: 'joking',\n",
       " 625: 'bad',\n",
       " 626: 'zip',\n",
       " 627: 'lips',\n",
       " 628: 'bird',\n",
       " 629: 'allow',\n",
       " 630: 'crying',\n",
       " 631: 'aren',\n",
       " 632: 'lay',\n",
       " 633: 'eggs',\n",
       " 634: 'boil',\n",
       " 635: 'water',\n",
       " 636: 'beer',\n",
       " 637: 'room',\n",
       " 638: 'close',\n",
       " 639: 'cows',\n",
       " 640: 'milk',\n",
       " 641: 'deal',\n",
       " 642: 'hear',\n",
       " 643: 'touch',\n",
       " 644: 'drop',\n",
       " 645: 'knife',\n",
       " 646: 'everybody',\n",
       " 647: 'lies',\n",
       " 648: 'bed',\n",
       " 649: 'afternoon',\n",
       " 650: 'year',\n",
       " 651: 'accelerated',\n",
       " 652: 'cannot',\n",
       " 653: 'confused',\n",
       " 654: 'doesn',\n",
       " 655: 'held',\n",
       " 656: 'ball',\n",
       " 657: 'american',\n",
       " 658: 'doctor',\n",
       " 659: 'lives',\n",
       " 660: 'sang',\n",
       " 661: 'song',\n",
       " 662: 'fruit'}"
      ]
     },
     "execution_count": 63,
     "metadata": {},
     "output_type": "execute_result"
    }
   ],
   "execution_count": 63
  },
  {
   "metadata": {
    "ExecuteTime": {
     "end_time": "2024-06-22T07:44:28.339573Z",
     "start_time": "2024-06-22T07:42:54.923752Z"
    }
   },
   "cell_type": "code",
   "source": [
    "def generate_fasttext_training_data(tokenized_sentences, window_size=2):\n",
    "    training_data = []\n",
    "    for sentence in tokenized_sentences:\n",
    "        for i, word in enumerate(sentence):\n",
    "            target_word_idx = vocab[word]\n",
    "            context_start = max(0, i - window_size)\n",
    "            context_end = min(len(sentence), i + window_size + 1)\n",
    "            context_words = [vocab[sentence[j]] for j in range(context_start, context_end) if j != i]\n",
    "            for context_word_idx in context_words:\n",
    "                training_data.append((target_word_idx, context_word_idx))\n",
    "    return np.array(training_data)\n",
    "\n",
    "\n",
    "class FastText:\n",
    "    def __init__(self, vocab_size, embedding_dim, n_grams=2):\n",
    "        self.vocab_size = vocab_size\n",
    "        self.embedding_dim = embedding_dim\n",
    "        self.n_grams = n_grams\n",
    "        self.word_embeddings = np.random.rand(vocab_size, embedding_dim)\n",
    "        self.ngram_embeddings = np.random.rand(vocab_size * n_grams, embedding_dim)\n",
    "\n",
    "    def get_ngrams(self, word):\n",
    "        ngrams = [word[i:i+self.n_grams] for i in range(len(word)-self.n_grams+1)]\n",
    "        return ngrams\n",
    "\n",
    "    def softmax(self, x):\n",
    "        e_x = np.exp(x - np.max(x))\n",
    "        return e_x / e_x.sum(axis=0)\n",
    "\n",
    "    def train(self, training_data, epochs, learning_rate):\n",
    "        for epoch in range(epochs):\n",
    "            loss = 0\n",
    "            for target_word_idx, context_word_idx in tqdm(training_data, desc=f\"Epoch {epoch+1}/{epochs}\", leave=False):\n",
    "                ngrams = self.get_ngrams(reverse_vocabulary[target_word_idx])\n",
    "                ngram_idxs = [vocab.get(ngram, -1) for ngram in ngrams]\n",
    "                ngram_idxs = [idx for idx in ngram_idxs if idx != -1]\n",
    "\n",
    "                if len(ngram_idxs) == 0:\n",
    "                    continue\n",
    "\n",
    "                h = np.mean(np.vstack([self.word_embeddings[target_word_idx]] + [self.ngram_embeddings[idx] for idx in ngram_idxs]), axis=0)\n",
    "                u = np.dot(h, self.word_embeddings.T)\n",
    "                y_pred = self.softmax(u)\n",
    "                e = y_pred\n",
    "                e[context_word_idx] -= 1\n",
    "\n",
    "                self.word_embeddings[target_word_idx] -= learning_rate * np.dot(e, self.word_embeddings)\n",
    "                for idx in ngram_idxs:\n",
    "                    self.ngram_embeddings[idx] -= learning_rate * np.dot(e, self.word_embeddings)\n",
    "\n",
    "                loss += -np.log(y_pred[context_word_idx])\n",
    "\n",
    "            if epoch % 10 == 0:\n",
    "                print(f'Epoch: {epoch}, Loss: {loss}')\n",
    "\n",
    "fasttext_training_data = generate_fasttext_training_data(tokenized_sentences)\n",
    "\n",
    "# Initialize and train the fastText model\n",
    "fasttext_model = FastText(len(vocab), embedding_dim)\n",
    "fasttext_model.train(fasttext_training_data, epochs=100, learning_rate=0.01)\n",
    "\n",
    "# Get the word embeddings\n",
    "fasttext_word_embeddings = fasttext_model.word_embeddings\n",
    "print(fasttext_word_embeddings)"
   ],
   "id": "b2a916859b6e8bfd",
   "outputs": [
    {
     "data": {
      "text/plain": [
       "Epoch 1/100:   0%|          | 0/10312 [00:00<?, ?it/s]"
      ],
      "application/vnd.jupyter.widget-view+json": {
       "version_major": 2,
       "version_minor": 0,
       "model_id": "0cb34da1bc0f4e8aa80996467bee9a32"
      }
     },
     "metadata": {},
     "output_type": "display_data"
    },
    {
     "name": "stderr",
     "output_type": "stream",
     "text": [
      "C:\\Users\\Administrator\\AppData\\Local\\Temp\\ipykernel_33320\\3510803985.py:51: RuntimeWarning: invalid value encountered in log\n",
      "  loss += -np.log(y_pred[context_word_idx])\n"
     ]
    },
    {
     "name": "stdout",
     "output_type": "stream",
     "text": [
      "Epoch: 0, Loss: nan\n"
     ]
    },
    {
     "data": {
      "text/plain": [
       "Epoch 2/100:   0%|          | 0/10312 [00:00<?, ?it/s]"
      ],
      "application/vnd.jupyter.widget-view+json": {
       "version_major": 2,
       "version_minor": 0,
       "model_id": "9f15a4cbea2a433b8549ce071582adb9"
      }
     },
     "metadata": {},
     "output_type": "display_data"
    },
    {
     "data": {
      "text/plain": [
       "Epoch 3/100:   0%|          | 0/10312 [00:00<?, ?it/s]"
      ],
      "application/vnd.jupyter.widget-view+json": {
       "version_major": 2,
       "version_minor": 0,
       "model_id": "01066ce2164a4feb918fc036c3abc906"
      }
     },
     "metadata": {},
     "output_type": "display_data"
    },
    {
     "data": {
      "text/plain": [
       "Epoch 4/100:   0%|          | 0/10312 [00:00<?, ?it/s]"
      ],
      "application/vnd.jupyter.widget-view+json": {
       "version_major": 2,
       "version_minor": 0,
       "model_id": "3ca77693a96a4fb38f38b7f137f7c3d3"
      }
     },
     "metadata": {},
     "output_type": "display_data"
    },
    {
     "data": {
      "text/plain": [
       "Epoch 5/100:   0%|          | 0/10312 [00:00<?, ?it/s]"
      ],
      "application/vnd.jupyter.widget-view+json": {
       "version_major": 2,
       "version_minor": 0,
       "model_id": "61c16529ef4d445197e19daad0a01266"
      }
     },
     "metadata": {},
     "output_type": "display_data"
    },
    {
     "data": {
      "text/plain": [
       "Epoch 6/100:   0%|          | 0/10312 [00:00<?, ?it/s]"
      ],
      "application/vnd.jupyter.widget-view+json": {
       "version_major": 2,
       "version_minor": 0,
       "model_id": "6542586afd2d4c4e9f7ceba88781dc55"
      }
     },
     "metadata": {},
     "output_type": "display_data"
    },
    {
     "data": {
      "text/plain": [
       "Epoch 7/100:   0%|          | 0/10312 [00:00<?, ?it/s]"
      ],
      "application/vnd.jupyter.widget-view+json": {
       "version_major": 2,
       "version_minor": 0,
       "model_id": "ce3a34e652934733b5a4cf330b5b8332"
      }
     },
     "metadata": {},
     "output_type": "display_data"
    },
    {
     "data": {
      "text/plain": [
       "Epoch 8/100:   0%|          | 0/10312 [00:00<?, ?it/s]"
      ],
      "application/vnd.jupyter.widget-view+json": {
       "version_major": 2,
       "version_minor": 0,
       "model_id": "868a7d78a7a1403c8a0df742ef487377"
      }
     },
     "metadata": {},
     "output_type": "display_data"
    },
    {
     "data": {
      "text/plain": [
       "Epoch 9/100:   0%|          | 0/10312 [00:00<?, ?it/s]"
      ],
      "application/vnd.jupyter.widget-view+json": {
       "version_major": 2,
       "version_minor": 0,
       "model_id": "3c7d7540746c455cbc89caa61c1e0277"
      }
     },
     "metadata": {},
     "output_type": "display_data"
    },
    {
     "data": {
      "text/plain": [
       "Epoch 10/100:   0%|          | 0/10312 [00:00<?, ?it/s]"
      ],
      "application/vnd.jupyter.widget-view+json": {
       "version_major": 2,
       "version_minor": 0,
       "model_id": "c859b2c98b61417fb76e2dad9f55b63b"
      }
     },
     "metadata": {},
     "output_type": "display_data"
    },
    {
     "data": {
      "text/plain": [
       "Epoch 11/100:   0%|          | 0/10312 [00:00<?, ?it/s]"
      ],
      "application/vnd.jupyter.widget-view+json": {
       "version_major": 2,
       "version_minor": 0,
       "model_id": "a02cb56af9514d33ade79c757f5e04fa"
      }
     },
     "metadata": {},
     "output_type": "display_data"
    },
    {
     "name": "stdout",
     "output_type": "stream",
     "text": [
      "Epoch: 10, Loss: nan\n"
     ]
    },
    {
     "data": {
      "text/plain": [
       "Epoch 12/100:   0%|          | 0/10312 [00:00<?, ?it/s]"
      ],
      "application/vnd.jupyter.widget-view+json": {
       "version_major": 2,
       "version_minor": 0,
       "model_id": "873e5b7cbf5849c3b3dfae44d15a9592"
      }
     },
     "metadata": {},
     "output_type": "display_data"
    },
    {
     "data": {
      "text/plain": [
       "Epoch 13/100:   0%|          | 0/10312 [00:00<?, ?it/s]"
      ],
      "application/vnd.jupyter.widget-view+json": {
       "version_major": 2,
       "version_minor": 0,
       "model_id": "5ba7e426c5dd4302804cc39c5f20e0b3"
      }
     },
     "metadata": {},
     "output_type": "display_data"
    },
    {
     "data": {
      "text/plain": [
       "Epoch 14/100:   0%|          | 0/10312 [00:00<?, ?it/s]"
      ],
      "application/vnd.jupyter.widget-view+json": {
       "version_major": 2,
       "version_minor": 0,
       "model_id": "8e5d504372d5433ea039649167726bd3"
      }
     },
     "metadata": {},
     "output_type": "display_data"
    },
    {
     "data": {
      "text/plain": [
       "Epoch 15/100:   0%|          | 0/10312 [00:00<?, ?it/s]"
      ],
      "application/vnd.jupyter.widget-view+json": {
       "version_major": 2,
       "version_minor": 0,
       "model_id": "7e1040cb6742470ab47f5d3d7c237f48"
      }
     },
     "metadata": {},
     "output_type": "display_data"
    },
    {
     "data": {
      "text/plain": [
       "Epoch 16/100:   0%|          | 0/10312 [00:00<?, ?it/s]"
      ],
      "application/vnd.jupyter.widget-view+json": {
       "version_major": 2,
       "version_minor": 0,
       "model_id": "1ac18a855df44fca9d0f518a2ca90266"
      }
     },
     "metadata": {},
     "output_type": "display_data"
    },
    {
     "data": {
      "text/plain": [
       "Epoch 17/100:   0%|          | 0/10312 [00:00<?, ?it/s]"
      ],
      "application/vnd.jupyter.widget-view+json": {
       "version_major": 2,
       "version_minor": 0,
       "model_id": "0b347450f7f94ba99615b0be01d4fbc2"
      }
     },
     "metadata": {},
     "output_type": "display_data"
    },
    {
     "data": {
      "text/plain": [
       "Epoch 18/100:   0%|          | 0/10312 [00:00<?, ?it/s]"
      ],
      "application/vnd.jupyter.widget-view+json": {
       "version_major": 2,
       "version_minor": 0,
       "model_id": "a3f92856739a44e1837c3c0819224011"
      }
     },
     "metadata": {},
     "output_type": "display_data"
    },
    {
     "data": {
      "text/plain": [
       "Epoch 19/100:   0%|          | 0/10312 [00:00<?, ?it/s]"
      ],
      "application/vnd.jupyter.widget-view+json": {
       "version_major": 2,
       "version_minor": 0,
       "model_id": "bfe01c3a0d6b4a089102bd081f4416f5"
      }
     },
     "metadata": {},
     "output_type": "display_data"
    },
    {
     "data": {
      "text/plain": [
       "Epoch 20/100:   0%|          | 0/10312 [00:00<?, ?it/s]"
      ],
      "application/vnd.jupyter.widget-view+json": {
       "version_major": 2,
       "version_minor": 0,
       "model_id": "68f63018af0f4ec2b25871fff133fc9c"
      }
     },
     "metadata": {},
     "output_type": "display_data"
    },
    {
     "data": {
      "text/plain": [
       "Epoch 21/100:   0%|          | 0/10312 [00:00<?, ?it/s]"
      ],
      "application/vnd.jupyter.widget-view+json": {
       "version_major": 2,
       "version_minor": 0,
       "model_id": "e5123bc1b6354ed2bea45d3514be956a"
      }
     },
     "metadata": {},
     "output_type": "display_data"
    },
    {
     "name": "stdout",
     "output_type": "stream",
     "text": [
      "Epoch: 20, Loss: nan\n"
     ]
    },
    {
     "data": {
      "text/plain": [
       "Epoch 22/100:   0%|          | 0/10312 [00:00<?, ?it/s]"
      ],
      "application/vnd.jupyter.widget-view+json": {
       "version_major": 2,
       "version_minor": 0,
       "model_id": "b532680ac8f640a3b26310cbb518eb71"
      }
     },
     "metadata": {},
     "output_type": "display_data"
    },
    {
     "data": {
      "text/plain": [
       "Epoch 23/100:   0%|          | 0/10312 [00:00<?, ?it/s]"
      ],
      "application/vnd.jupyter.widget-view+json": {
       "version_major": 2,
       "version_minor": 0,
       "model_id": "ef3aca48325c4103a13c779bf2657034"
      }
     },
     "metadata": {},
     "output_type": "display_data"
    },
    {
     "data": {
      "text/plain": [
       "Epoch 24/100:   0%|          | 0/10312 [00:00<?, ?it/s]"
      ],
      "application/vnd.jupyter.widget-view+json": {
       "version_major": 2,
       "version_minor": 0,
       "model_id": "7b3ce4c54ef7483aba2e3cf0f8f6fe1c"
      }
     },
     "metadata": {},
     "output_type": "display_data"
    },
    {
     "data": {
      "text/plain": [
       "Epoch 25/100:   0%|          | 0/10312 [00:00<?, ?it/s]"
      ],
      "application/vnd.jupyter.widget-view+json": {
       "version_major": 2,
       "version_minor": 0,
       "model_id": "98e3d8e2ddc444c38b52f6303776fe96"
      }
     },
     "metadata": {},
     "output_type": "display_data"
    },
    {
     "data": {
      "text/plain": [
       "Epoch 26/100:   0%|          | 0/10312 [00:00<?, ?it/s]"
      ],
      "application/vnd.jupyter.widget-view+json": {
       "version_major": 2,
       "version_minor": 0,
       "model_id": "d9f387d49ada44628d8d69cef25ae549"
      }
     },
     "metadata": {},
     "output_type": "display_data"
    },
    {
     "data": {
      "text/plain": [
       "Epoch 27/100:   0%|          | 0/10312 [00:00<?, ?it/s]"
      ],
      "application/vnd.jupyter.widget-view+json": {
       "version_major": 2,
       "version_minor": 0,
       "model_id": "27a13f4de88b4940ab951b6c481a59b4"
      }
     },
     "metadata": {},
     "output_type": "display_data"
    },
    {
     "data": {
      "text/plain": [
       "Epoch 28/100:   0%|          | 0/10312 [00:00<?, ?it/s]"
      ],
      "application/vnd.jupyter.widget-view+json": {
       "version_major": 2,
       "version_minor": 0,
       "model_id": "f72800b6f66c4d949bf0b2ff4eea6be4"
      }
     },
     "metadata": {},
     "output_type": "display_data"
    },
    {
     "data": {
      "text/plain": [
       "Epoch 29/100:   0%|          | 0/10312 [00:00<?, ?it/s]"
      ],
      "application/vnd.jupyter.widget-view+json": {
       "version_major": 2,
       "version_minor": 0,
       "model_id": "51c16ea419294b24b140afd86546ce19"
      }
     },
     "metadata": {},
     "output_type": "display_data"
    },
    {
     "data": {
      "text/plain": [
       "Epoch 30/100:   0%|          | 0/10312 [00:00<?, ?it/s]"
      ],
      "application/vnd.jupyter.widget-view+json": {
       "version_major": 2,
       "version_minor": 0,
       "model_id": "da11db9de62b495484dc04d78b8ca6bf"
      }
     },
     "metadata": {},
     "output_type": "display_data"
    },
    {
     "data": {
      "text/plain": [
       "Epoch 31/100:   0%|          | 0/10312 [00:00<?, ?it/s]"
      ],
      "application/vnd.jupyter.widget-view+json": {
       "version_major": 2,
       "version_minor": 0,
       "model_id": "96e83afe1dba481db9f475e527fa17ef"
      }
     },
     "metadata": {},
     "output_type": "display_data"
    },
    {
     "name": "stdout",
     "output_type": "stream",
     "text": [
      "Epoch: 30, Loss: nan\n"
     ]
    },
    {
     "data": {
      "text/plain": [
       "Epoch 32/100:   0%|          | 0/10312 [00:00<?, ?it/s]"
      ],
      "application/vnd.jupyter.widget-view+json": {
       "version_major": 2,
       "version_minor": 0,
       "model_id": "b38ad36b0833459caf819ca470131ec4"
      }
     },
     "metadata": {},
     "output_type": "display_data"
    },
    {
     "data": {
      "text/plain": [
       "Epoch 33/100:   0%|          | 0/10312 [00:00<?, ?it/s]"
      ],
      "application/vnd.jupyter.widget-view+json": {
       "version_major": 2,
       "version_minor": 0,
       "model_id": "0ce256aebfb148c198594306ae82b134"
      }
     },
     "metadata": {},
     "output_type": "display_data"
    },
    {
     "data": {
      "text/plain": [
       "Epoch 34/100:   0%|          | 0/10312 [00:00<?, ?it/s]"
      ],
      "application/vnd.jupyter.widget-view+json": {
       "version_major": 2,
       "version_minor": 0,
       "model_id": "9f909745cd7541d8b2a03822c4656b12"
      }
     },
     "metadata": {},
     "output_type": "display_data"
    },
    {
     "data": {
      "text/plain": [
       "Epoch 35/100:   0%|          | 0/10312 [00:00<?, ?it/s]"
      ],
      "application/vnd.jupyter.widget-view+json": {
       "version_major": 2,
       "version_minor": 0,
       "model_id": "31ed159bf001471e9ff0817f03ee6813"
      }
     },
     "metadata": {},
     "output_type": "display_data"
    },
    {
     "data": {
      "text/plain": [
       "Epoch 36/100:   0%|          | 0/10312 [00:00<?, ?it/s]"
      ],
      "application/vnd.jupyter.widget-view+json": {
       "version_major": 2,
       "version_minor": 0,
       "model_id": "da843fc8472f44d3aa0c15a0473ef190"
      }
     },
     "metadata": {},
     "output_type": "display_data"
    },
    {
     "data": {
      "text/plain": [
       "Epoch 37/100:   0%|          | 0/10312 [00:00<?, ?it/s]"
      ],
      "application/vnd.jupyter.widget-view+json": {
       "version_major": 2,
       "version_minor": 0,
       "model_id": "35024b501fcb4bd082042b0998d5b710"
      }
     },
     "metadata": {},
     "output_type": "display_data"
    },
    {
     "data": {
      "text/plain": [
       "Epoch 38/100:   0%|          | 0/10312 [00:00<?, ?it/s]"
      ],
      "application/vnd.jupyter.widget-view+json": {
       "version_major": 2,
       "version_minor": 0,
       "model_id": "2f74c7021e2e4c59b246082e14cb7966"
      }
     },
     "metadata": {},
     "output_type": "display_data"
    },
    {
     "data": {
      "text/plain": [
       "Epoch 39/100:   0%|          | 0/10312 [00:00<?, ?it/s]"
      ],
      "application/vnd.jupyter.widget-view+json": {
       "version_major": 2,
       "version_minor": 0,
       "model_id": "cb5387d5f09640ff808c5f89c2582153"
      }
     },
     "metadata": {},
     "output_type": "display_data"
    },
    {
     "data": {
      "text/plain": [
       "Epoch 40/100:   0%|          | 0/10312 [00:00<?, ?it/s]"
      ],
      "application/vnd.jupyter.widget-view+json": {
       "version_major": 2,
       "version_minor": 0,
       "model_id": "8402db31b08b4446b7ac8d5be57b1ecd"
      }
     },
     "metadata": {},
     "output_type": "display_data"
    },
    {
     "data": {
      "text/plain": [
       "Epoch 41/100:   0%|          | 0/10312 [00:00<?, ?it/s]"
      ],
      "application/vnd.jupyter.widget-view+json": {
       "version_major": 2,
       "version_minor": 0,
       "model_id": "bde1bbb566d74e6795517b6dbe8b6582"
      }
     },
     "metadata": {},
     "output_type": "display_data"
    },
    {
     "name": "stdout",
     "output_type": "stream",
     "text": [
      "Epoch: 40, Loss: nan\n"
     ]
    },
    {
     "data": {
      "text/plain": [
       "Epoch 42/100:   0%|          | 0/10312 [00:00<?, ?it/s]"
      ],
      "application/vnd.jupyter.widget-view+json": {
       "version_major": 2,
       "version_minor": 0,
       "model_id": "f833178c65314df7a1b175ee4359896c"
      }
     },
     "metadata": {},
     "output_type": "display_data"
    },
    {
     "data": {
      "text/plain": [
       "Epoch 43/100:   0%|          | 0/10312 [00:00<?, ?it/s]"
      ],
      "application/vnd.jupyter.widget-view+json": {
       "version_major": 2,
       "version_minor": 0,
       "model_id": "260e9e0485c04eedb9c93d65538f1ee0"
      }
     },
     "metadata": {},
     "output_type": "display_data"
    },
    {
     "data": {
      "text/plain": [
       "Epoch 44/100:   0%|          | 0/10312 [00:00<?, ?it/s]"
      ],
      "application/vnd.jupyter.widget-view+json": {
       "version_major": 2,
       "version_minor": 0,
       "model_id": "c5b5a1b560b946dbbd8d82bdda0a9e66"
      }
     },
     "metadata": {},
     "output_type": "display_data"
    },
    {
     "data": {
      "text/plain": [
       "Epoch 45/100:   0%|          | 0/10312 [00:00<?, ?it/s]"
      ],
      "application/vnd.jupyter.widget-view+json": {
       "version_major": 2,
       "version_minor": 0,
       "model_id": "8691b9e021cc4fcb87bc5ec6adbd53ea"
      }
     },
     "metadata": {},
     "output_type": "display_data"
    },
    {
     "data": {
      "text/plain": [
       "Epoch 46/100:   0%|          | 0/10312 [00:00<?, ?it/s]"
      ],
      "application/vnd.jupyter.widget-view+json": {
       "version_major": 2,
       "version_minor": 0,
       "model_id": "6f6221f8ab624c5f8eba455e8fee3a60"
      }
     },
     "metadata": {},
     "output_type": "display_data"
    },
    {
     "data": {
      "text/plain": [
       "Epoch 47/100:   0%|          | 0/10312 [00:00<?, ?it/s]"
      ],
      "application/vnd.jupyter.widget-view+json": {
       "version_major": 2,
       "version_minor": 0,
       "model_id": "1bea0455ce294e849447361adef0b36b"
      }
     },
     "metadata": {},
     "output_type": "display_data"
    },
    {
     "data": {
      "text/plain": [
       "Epoch 48/100:   0%|          | 0/10312 [00:00<?, ?it/s]"
      ],
      "application/vnd.jupyter.widget-view+json": {
       "version_major": 2,
       "version_minor": 0,
       "model_id": "99064b70dbdb4759ad424db2fb47000e"
      }
     },
     "metadata": {},
     "output_type": "display_data"
    },
    {
     "data": {
      "text/plain": [
       "Epoch 49/100:   0%|          | 0/10312 [00:00<?, ?it/s]"
      ],
      "application/vnd.jupyter.widget-view+json": {
       "version_major": 2,
       "version_minor": 0,
       "model_id": "ba521540d3bd4f4882ac37220beff04e"
      }
     },
     "metadata": {},
     "output_type": "display_data"
    },
    {
     "data": {
      "text/plain": [
       "Epoch 50/100:   0%|          | 0/10312 [00:00<?, ?it/s]"
      ],
      "application/vnd.jupyter.widget-view+json": {
       "version_major": 2,
       "version_minor": 0,
       "model_id": "048949bff55d4e21b0b48590e84d95e5"
      }
     },
     "metadata": {},
     "output_type": "display_data"
    },
    {
     "data": {
      "text/plain": [
       "Epoch 51/100:   0%|          | 0/10312 [00:00<?, ?it/s]"
      ],
      "application/vnd.jupyter.widget-view+json": {
       "version_major": 2,
       "version_minor": 0,
       "model_id": "22e225284af44d8facb2941efebbf796"
      }
     },
     "metadata": {},
     "output_type": "display_data"
    },
    {
     "name": "stdout",
     "output_type": "stream",
     "text": [
      "Epoch: 50, Loss: nan\n"
     ]
    },
    {
     "data": {
      "text/plain": [
       "Epoch 52/100:   0%|          | 0/10312 [00:00<?, ?it/s]"
      ],
      "application/vnd.jupyter.widget-view+json": {
       "version_major": 2,
       "version_minor": 0,
       "model_id": "58cb1c21419046ee847433a6a6115634"
      }
     },
     "metadata": {},
     "output_type": "display_data"
    },
    {
     "data": {
      "text/plain": [
       "Epoch 53/100:   0%|          | 0/10312 [00:00<?, ?it/s]"
      ],
      "application/vnd.jupyter.widget-view+json": {
       "version_major": 2,
       "version_minor": 0,
       "model_id": "2b7b5f7df9dc477fa2309a40fbb7d0f6"
      }
     },
     "metadata": {},
     "output_type": "display_data"
    },
    {
     "data": {
      "text/plain": [
       "Epoch 54/100:   0%|          | 0/10312 [00:00<?, ?it/s]"
      ],
      "application/vnd.jupyter.widget-view+json": {
       "version_major": 2,
       "version_minor": 0,
       "model_id": "475ce235fba74a748f4bdb2ba4b138de"
      }
     },
     "metadata": {},
     "output_type": "display_data"
    },
    {
     "data": {
      "text/plain": [
       "Epoch 55/100:   0%|          | 0/10312 [00:00<?, ?it/s]"
      ],
      "application/vnd.jupyter.widget-view+json": {
       "version_major": 2,
       "version_minor": 0,
       "model_id": "e6abc04422fe44b3bea416e3d4063718"
      }
     },
     "metadata": {},
     "output_type": "display_data"
    },
    {
     "data": {
      "text/plain": [
       "Epoch 56/100:   0%|          | 0/10312 [00:00<?, ?it/s]"
      ],
      "application/vnd.jupyter.widget-view+json": {
       "version_major": 2,
       "version_minor": 0,
       "model_id": "ec4c28c0f78d4979b4324c18c886ea45"
      }
     },
     "metadata": {},
     "output_type": "display_data"
    },
    {
     "data": {
      "text/plain": [
       "Epoch 57/100:   0%|          | 0/10312 [00:00<?, ?it/s]"
      ],
      "application/vnd.jupyter.widget-view+json": {
       "version_major": 2,
       "version_minor": 0,
       "model_id": "48144d0f086b43808dd42234b2940d01"
      }
     },
     "metadata": {},
     "output_type": "display_data"
    },
    {
     "data": {
      "text/plain": [
       "Epoch 58/100:   0%|          | 0/10312 [00:00<?, ?it/s]"
      ],
      "application/vnd.jupyter.widget-view+json": {
       "version_major": 2,
       "version_minor": 0,
       "model_id": "54c47a70db7c4fa4a4b07aae72bb24a9"
      }
     },
     "metadata": {},
     "output_type": "display_data"
    },
    {
     "data": {
      "text/plain": [
       "Epoch 59/100:   0%|          | 0/10312 [00:00<?, ?it/s]"
      ],
      "application/vnd.jupyter.widget-view+json": {
       "version_major": 2,
       "version_minor": 0,
       "model_id": "97fe4448e245411b895dd8dc873239c6"
      }
     },
     "metadata": {},
     "output_type": "display_data"
    },
    {
     "data": {
      "text/plain": [
       "Epoch 60/100:   0%|          | 0/10312 [00:00<?, ?it/s]"
      ],
      "application/vnd.jupyter.widget-view+json": {
       "version_major": 2,
       "version_minor": 0,
       "model_id": "69b7593a22a541d29cf36b7b91e04ba8"
      }
     },
     "metadata": {},
     "output_type": "display_data"
    },
    {
     "data": {
      "text/plain": [
       "Epoch 61/100:   0%|          | 0/10312 [00:00<?, ?it/s]"
      ],
      "application/vnd.jupyter.widget-view+json": {
       "version_major": 2,
       "version_minor": 0,
       "model_id": "c311e5f12fd8468086a11a6a25372875"
      }
     },
     "metadata": {},
     "output_type": "display_data"
    },
    {
     "name": "stdout",
     "output_type": "stream",
     "text": [
      "Epoch: 60, Loss: nan\n"
     ]
    },
    {
     "data": {
      "text/plain": [
       "Epoch 62/100:   0%|          | 0/10312 [00:00<?, ?it/s]"
      ],
      "application/vnd.jupyter.widget-view+json": {
       "version_major": 2,
       "version_minor": 0,
       "model_id": "a73f49e0831d47f5880da6d3491ff28c"
      }
     },
     "metadata": {},
     "output_type": "display_data"
    },
    {
     "data": {
      "text/plain": [
       "Epoch 63/100:   0%|          | 0/10312 [00:00<?, ?it/s]"
      ],
      "application/vnd.jupyter.widget-view+json": {
       "version_major": 2,
       "version_minor": 0,
       "model_id": "305032850ed64996a64c913d374fa4ad"
      }
     },
     "metadata": {},
     "output_type": "display_data"
    },
    {
     "data": {
      "text/plain": [
       "Epoch 64/100:   0%|          | 0/10312 [00:00<?, ?it/s]"
      ],
      "application/vnd.jupyter.widget-view+json": {
       "version_major": 2,
       "version_minor": 0,
       "model_id": "46fdff9f1afd4946908b609a9f540cbf"
      }
     },
     "metadata": {},
     "output_type": "display_data"
    },
    {
     "data": {
      "text/plain": [
       "Epoch 65/100:   0%|          | 0/10312 [00:00<?, ?it/s]"
      ],
      "application/vnd.jupyter.widget-view+json": {
       "version_major": 2,
       "version_minor": 0,
       "model_id": "316a63f2987c47c799d68d108e7af208"
      }
     },
     "metadata": {},
     "output_type": "display_data"
    },
    {
     "data": {
      "text/plain": [
       "Epoch 66/100:   0%|          | 0/10312 [00:00<?, ?it/s]"
      ],
      "application/vnd.jupyter.widget-view+json": {
       "version_major": 2,
       "version_minor": 0,
       "model_id": "9c7ac2dacae245c493311b5de41631b6"
      }
     },
     "metadata": {},
     "output_type": "display_data"
    },
    {
     "data": {
      "text/plain": [
       "Epoch 67/100:   0%|          | 0/10312 [00:00<?, ?it/s]"
      ],
      "application/vnd.jupyter.widget-view+json": {
       "version_major": 2,
       "version_minor": 0,
       "model_id": "4272a07a10414199a3e36587a54746ed"
      }
     },
     "metadata": {},
     "output_type": "display_data"
    },
    {
     "data": {
      "text/plain": [
       "Epoch 68/100:   0%|          | 0/10312 [00:00<?, ?it/s]"
      ],
      "application/vnd.jupyter.widget-view+json": {
       "version_major": 2,
       "version_minor": 0,
       "model_id": "45a08c8764d04e319974dd80a8ca787e"
      }
     },
     "metadata": {},
     "output_type": "display_data"
    },
    {
     "data": {
      "text/plain": [
       "Epoch 69/100:   0%|          | 0/10312 [00:00<?, ?it/s]"
      ],
      "application/vnd.jupyter.widget-view+json": {
       "version_major": 2,
       "version_minor": 0,
       "model_id": "e65071d5622842d5992b46c8f65b5456"
      }
     },
     "metadata": {},
     "output_type": "display_data"
    },
    {
     "data": {
      "text/plain": [
       "Epoch 70/100:   0%|          | 0/10312 [00:00<?, ?it/s]"
      ],
      "application/vnd.jupyter.widget-view+json": {
       "version_major": 2,
       "version_minor": 0,
       "model_id": "5498823a78794686ae89dcbc6bc15fcc"
      }
     },
     "metadata": {},
     "output_type": "display_data"
    },
    {
     "data": {
      "text/plain": [
       "Epoch 71/100:   0%|          | 0/10312 [00:00<?, ?it/s]"
      ],
      "application/vnd.jupyter.widget-view+json": {
       "version_major": 2,
       "version_minor": 0,
       "model_id": "989b2c3f434b4cfcb42ef2256a4fdabe"
      }
     },
     "metadata": {},
     "output_type": "display_data"
    },
    {
     "name": "stdout",
     "output_type": "stream",
     "text": [
      "Epoch: 70, Loss: nan\n"
     ]
    },
    {
     "data": {
      "text/plain": [
       "Epoch 72/100:   0%|          | 0/10312 [00:00<?, ?it/s]"
      ],
      "application/vnd.jupyter.widget-view+json": {
       "version_major": 2,
       "version_minor": 0,
       "model_id": "6159247373174eb19d756263176cbfb0"
      }
     },
     "metadata": {},
     "output_type": "display_data"
    },
    {
     "data": {
      "text/plain": [
       "Epoch 73/100:   0%|          | 0/10312 [00:00<?, ?it/s]"
      ],
      "application/vnd.jupyter.widget-view+json": {
       "version_major": 2,
       "version_minor": 0,
       "model_id": "763646dc287a4cd9bd6e3b237b963d32"
      }
     },
     "metadata": {},
     "output_type": "display_data"
    },
    {
     "data": {
      "text/plain": [
       "Epoch 74/100:   0%|          | 0/10312 [00:00<?, ?it/s]"
      ],
      "application/vnd.jupyter.widget-view+json": {
       "version_major": 2,
       "version_minor": 0,
       "model_id": "817cf7cd134d48b4b7734a191613b4af"
      }
     },
     "metadata": {},
     "output_type": "display_data"
    },
    {
     "data": {
      "text/plain": [
       "Epoch 75/100:   0%|          | 0/10312 [00:00<?, ?it/s]"
      ],
      "application/vnd.jupyter.widget-view+json": {
       "version_major": 2,
       "version_minor": 0,
       "model_id": "cd37e7daf4c34cf8b6138d00320cb7f0"
      }
     },
     "metadata": {},
     "output_type": "display_data"
    },
    {
     "data": {
      "text/plain": [
       "Epoch 76/100:   0%|          | 0/10312 [00:00<?, ?it/s]"
      ],
      "application/vnd.jupyter.widget-view+json": {
       "version_major": 2,
       "version_minor": 0,
       "model_id": "b270535b1fa24491bd31e8f99762ea53"
      }
     },
     "metadata": {},
     "output_type": "display_data"
    },
    {
     "data": {
      "text/plain": [
       "Epoch 77/100:   0%|          | 0/10312 [00:00<?, ?it/s]"
      ],
      "application/vnd.jupyter.widget-view+json": {
       "version_major": 2,
       "version_minor": 0,
       "model_id": "f72b46f161fc4a29b88bbe6bad6240a5"
      }
     },
     "metadata": {},
     "output_type": "display_data"
    },
    {
     "data": {
      "text/plain": [
       "Epoch 78/100:   0%|          | 0/10312 [00:00<?, ?it/s]"
      ],
      "application/vnd.jupyter.widget-view+json": {
       "version_major": 2,
       "version_minor": 0,
       "model_id": "3f0c2de9d2df42ea95f7e0c2fe69deb2"
      }
     },
     "metadata": {},
     "output_type": "display_data"
    },
    {
     "data": {
      "text/plain": [
       "Epoch 79/100:   0%|          | 0/10312 [00:00<?, ?it/s]"
      ],
      "application/vnd.jupyter.widget-view+json": {
       "version_major": 2,
       "version_minor": 0,
       "model_id": "9eca33e53d6a482ab893f6ba245da102"
      }
     },
     "metadata": {},
     "output_type": "display_data"
    },
    {
     "data": {
      "text/plain": [
       "Epoch 80/100:   0%|          | 0/10312 [00:00<?, ?it/s]"
      ],
      "application/vnd.jupyter.widget-view+json": {
       "version_major": 2,
       "version_minor": 0,
       "model_id": "986afb1e572640d9acd33f12b3d5a457"
      }
     },
     "metadata": {},
     "output_type": "display_data"
    },
    {
     "data": {
      "text/plain": [
       "Epoch 81/100:   0%|          | 0/10312 [00:00<?, ?it/s]"
      ],
      "application/vnd.jupyter.widget-view+json": {
       "version_major": 2,
       "version_minor": 0,
       "model_id": "7b803e53381d4a27b5954d44545f8ccd"
      }
     },
     "metadata": {},
     "output_type": "display_data"
    },
    {
     "name": "stdout",
     "output_type": "stream",
     "text": [
      "Epoch: 80, Loss: nan\n"
     ]
    },
    {
     "data": {
      "text/plain": [
       "Epoch 82/100:   0%|          | 0/10312 [00:00<?, ?it/s]"
      ],
      "application/vnd.jupyter.widget-view+json": {
       "version_major": 2,
       "version_minor": 0,
       "model_id": "91db211acc874b588a05125bd7d12baa"
      }
     },
     "metadata": {},
     "output_type": "display_data"
    },
    {
     "data": {
      "text/plain": [
       "Epoch 83/100:   0%|          | 0/10312 [00:00<?, ?it/s]"
      ],
      "application/vnd.jupyter.widget-view+json": {
       "version_major": 2,
       "version_minor": 0,
       "model_id": "6237d20f8e044c60b8912eacd4a9f6d5"
      }
     },
     "metadata": {},
     "output_type": "display_data"
    },
    {
     "data": {
      "text/plain": [
       "Epoch 84/100:   0%|          | 0/10312 [00:00<?, ?it/s]"
      ],
      "application/vnd.jupyter.widget-view+json": {
       "version_major": 2,
       "version_minor": 0,
       "model_id": "370c087a43ed4b669cb16131a1902488"
      }
     },
     "metadata": {},
     "output_type": "display_data"
    },
    {
     "data": {
      "text/plain": [
       "Epoch 85/100:   0%|          | 0/10312 [00:00<?, ?it/s]"
      ],
      "application/vnd.jupyter.widget-view+json": {
       "version_major": 2,
       "version_minor": 0,
       "model_id": "779e5bc7a9cc4d1d8776c5638496aeb1"
      }
     },
     "metadata": {},
     "output_type": "display_data"
    },
    {
     "data": {
      "text/plain": [
       "Epoch 86/100:   0%|          | 0/10312 [00:00<?, ?it/s]"
      ],
      "application/vnd.jupyter.widget-view+json": {
       "version_major": 2,
       "version_minor": 0,
       "model_id": "5ca0c336c3c74558b0293a5af63ba18f"
      }
     },
     "metadata": {},
     "output_type": "display_data"
    },
    {
     "data": {
      "text/plain": [
       "Epoch 87/100:   0%|          | 0/10312 [00:00<?, ?it/s]"
      ],
      "application/vnd.jupyter.widget-view+json": {
       "version_major": 2,
       "version_minor": 0,
       "model_id": "661375b5376a494c9e1eac6cc2c3d857"
      }
     },
     "metadata": {},
     "output_type": "display_data"
    },
    {
     "data": {
      "text/plain": [
       "Epoch 88/100:   0%|          | 0/10312 [00:00<?, ?it/s]"
      ],
      "application/vnd.jupyter.widget-view+json": {
       "version_major": 2,
       "version_minor": 0,
       "model_id": "2fa8ba16de644c9ba2df3da020cf5eb9"
      }
     },
     "metadata": {},
     "output_type": "display_data"
    },
    {
     "data": {
      "text/plain": [
       "Epoch 89/100:   0%|          | 0/10312 [00:00<?, ?it/s]"
      ],
      "application/vnd.jupyter.widget-view+json": {
       "version_major": 2,
       "version_minor": 0,
       "model_id": "197974d300464f4c9c9fa4139f675e55"
      }
     },
     "metadata": {},
     "output_type": "display_data"
    },
    {
     "data": {
      "text/plain": [
       "Epoch 90/100:   0%|          | 0/10312 [00:00<?, ?it/s]"
      ],
      "application/vnd.jupyter.widget-view+json": {
       "version_major": 2,
       "version_minor": 0,
       "model_id": "7e274f0e12144ddfbf139a1182abcd48"
      }
     },
     "metadata": {},
     "output_type": "display_data"
    },
    {
     "data": {
      "text/plain": [
       "Epoch 91/100:   0%|          | 0/10312 [00:00<?, ?it/s]"
      ],
      "application/vnd.jupyter.widget-view+json": {
       "version_major": 2,
       "version_minor": 0,
       "model_id": "c9e732f0b2af4de7b9950dbf2c95a1be"
      }
     },
     "metadata": {},
     "output_type": "display_data"
    },
    {
     "name": "stdout",
     "output_type": "stream",
     "text": [
      "Epoch: 90, Loss: nan\n"
     ]
    },
    {
     "data": {
      "text/plain": [
       "Epoch 92/100:   0%|          | 0/10312 [00:00<?, ?it/s]"
      ],
      "application/vnd.jupyter.widget-view+json": {
       "version_major": 2,
       "version_minor": 0,
       "model_id": "fbabdec28f5a46f7a028539dda871bc2"
      }
     },
     "metadata": {},
     "output_type": "display_data"
    },
    {
     "data": {
      "text/plain": [
       "Epoch 93/100:   0%|          | 0/10312 [00:00<?, ?it/s]"
      ],
      "application/vnd.jupyter.widget-view+json": {
       "version_major": 2,
       "version_minor": 0,
       "model_id": "ecfee235a1cd43c68cb6e085b07047c1"
      }
     },
     "metadata": {},
     "output_type": "display_data"
    },
    {
     "data": {
      "text/plain": [
       "Epoch 94/100:   0%|          | 0/10312 [00:00<?, ?it/s]"
      ],
      "application/vnd.jupyter.widget-view+json": {
       "version_major": 2,
       "version_minor": 0,
       "model_id": "f92fc2b99c6f45cf9f61e00547eb4684"
      }
     },
     "metadata": {},
     "output_type": "display_data"
    },
    {
     "data": {
      "text/plain": [
       "Epoch 95/100:   0%|          | 0/10312 [00:00<?, ?it/s]"
      ],
      "application/vnd.jupyter.widget-view+json": {
       "version_major": 2,
       "version_minor": 0,
       "model_id": "f1e8834dec26486aa86cde049ffecc24"
      }
     },
     "metadata": {},
     "output_type": "display_data"
    },
    {
     "data": {
      "text/plain": [
       "Epoch 96/100:   0%|          | 0/10312 [00:00<?, ?it/s]"
      ],
      "application/vnd.jupyter.widget-view+json": {
       "version_major": 2,
       "version_minor": 0,
       "model_id": "c62e362e354c4aa6aeb73d185c727ba3"
      }
     },
     "metadata": {},
     "output_type": "display_data"
    },
    {
     "data": {
      "text/plain": [
       "Epoch 97/100:   0%|          | 0/10312 [00:00<?, ?it/s]"
      ],
      "application/vnd.jupyter.widget-view+json": {
       "version_major": 2,
       "version_minor": 0,
       "model_id": "0beccdd8fe5343409b5f39df69e55b26"
      }
     },
     "metadata": {},
     "output_type": "display_data"
    },
    {
     "data": {
      "text/plain": [
       "Epoch 98/100:   0%|          | 0/10312 [00:00<?, ?it/s]"
      ],
      "application/vnd.jupyter.widget-view+json": {
       "version_major": 2,
       "version_minor": 0,
       "model_id": "c42ea1af42b845e4873240b04a0cba17"
      }
     },
     "metadata": {},
     "output_type": "display_data"
    },
    {
     "data": {
      "text/plain": [
       "Epoch 99/100:   0%|          | 0/10312 [00:00<?, ?it/s]"
      ],
      "application/vnd.jupyter.widget-view+json": {
       "version_major": 2,
       "version_minor": 0,
       "model_id": "4a24e080f11e4d07aae53ee12673a4dc"
      }
     },
     "metadata": {},
     "output_type": "display_data"
    },
    {
     "data": {
      "text/plain": [
       "Epoch 100/100:   0%|          | 0/10312 [00:00<?, ?it/s]"
      ],
      "application/vnd.jupyter.widget-view+json": {
       "version_major": 2,
       "version_minor": 0,
       "model_id": "422b6d95393d44049d362fc09aebb5f3"
      }
     },
     "metadata": {},
     "output_type": "display_data"
    },
    {
     "name": "stdout",
     "output_type": "stream",
     "text": [
      "[[ 0.16314414  0.00705658  0.26132478 ...  0.59983461  0.29876284\n",
      "   0.11342668]\n",
      " [ 0.12116813  0.53261968  0.67174751 ...  0.12554508  0.77882146\n",
      "   0.02151494]\n",
      " [ 0.48978431  0.3457182   0.29117078 ...  0.07718073  0.60555994\n",
      "   0.96811756]\n",
      " ...\n",
      " [ 0.5064201   0.845945    0.31978981 ...  0.48814942  0.40642158\n",
      "  -0.23922189]\n",
      " [ 0.3736361   0.58903552  0.54320634 ...  0.32565591  0.03653038\n",
      "   0.066884  ]\n",
      " [ 0.15028321  1.24396811  0.51601879 ...  0.61647634  0.78923081\n",
      "  -0.2176151 ]]\n"
     ]
    }
   ],
   "execution_count": 68
  },
  {
   "metadata": {},
   "cell_type": "markdown",
   "source": "评估 skipgram_embeddings",
   "id": "94553dca6fac1a6f"
  },
  {
   "metadata": {
    "ExecuteTime": {
     "end_time": "2024-06-22T05:50:16.872778Z",
     "start_time": "2024-06-22T05:50:16.865033Z"
    }
   },
   "cell_type": "code",
   "source": [
    "# 计算词向量相似度\n",
    "def cosine_similarity(vec1, vec2):\n",
    "    dot_product = np.dot(vec1, vec2)\n",
    "    norm_vec1 = np.linalg.norm(vec1)\n",
    "    norm_vec2 = np.linalg.norm(vec2)\n",
    "    return dot_product / (norm_vec1 * norm_vec2)\n",
    "\n",
    "# 获取词向量\n",
    "def get_word_vector(word, vocab, embeddings):\n",
    "    index = vocab.get(word, vocab['<UNK>'])\n",
    "    return embeddings[index]\n",
    "\n",
    "# 计算句子的嵌入表示\n",
    "def get_sentence_embedding(sentence, vocab, embeddings):\n",
    "    words = sentence.split()\n",
    "    vectors = [get_word_vector(word, vocab, embeddings) for word in words if word in vocab]\n",
    "    if len(vectors) == 0:\n",
    "        return np.zeros(embeddings.shape[1])  # 如果句子中没有已知词，则返回零向量\n",
    "    return np.mean(vectors, axis=0)  # 使用向量平均值表示句子\n",
    "\n",
    "# 示例句子\n",
    "sentence1 = 'What are they saying ?'  \n",
    "sentence2 = 'How old are you ?'  \n",
    "sentence3 = 'Your dog is very big .'  \n",
    "\n",
    "# 获取句子的嵌入表示\n",
    "sentence_embedding1 = get_sentence_embedding(sentence1, vocab, skipgram_embeddings)\n",
    "sentence_embedding2 = get_sentence_embedding(sentence2, vocab, skipgram_embeddings)\n",
    "sentence_embedding3 = get_sentence_embedding(sentence3, vocab, skipgram_embeddings)\n",
    "\n",
    "# 计算句子之间的相似度\n",
    "similarity12 = cosine_similarity(sentence_embedding1, sentence_embedding2)\n",
    "similarity13 = cosine_similarity(sentence_embedding1, sentence_embedding3)\n",
    "print(f\"Similarity between '{sentence1}' and '{sentence2}':\", similarity12)\n",
    "print(f\"Similarity between '{sentence1}' and '{sentence3}':\", similarity13)"
   ],
   "id": "459f0680b3ca7954",
   "outputs": [
    {
     "name": "stdout",
     "output_type": "stream",
     "text": [
      "Similarity between 'What are they saying ?' and 'How old are you ?': 0.7147349897445243\n",
      "Similarity between 'What are they saying ?' and 'Your dog is very big .': 0.36901023775191305\n"
     ]
    }
   ],
   "execution_count": 29
  },
  {
   "cell_type": "code",
   "source": [
    "word1 = 'them'  \n",
    "word2 = 'they'  \n",
    "\n",
    "similarity = get_similarity(word1,word2, vocab, skipgram_embeddings)\n",
    "print(f\"Similarity between '{word1}' and '{word2}':\", similarity)\n"
   ],
   "metadata": {
    "collapsed": false,
    "ExecuteTime": {
     "end_time": "2024-06-22T07:02:18.150551Z",
     "start_time": "2024-06-22T07:02:18.138426Z"
    }
   },
   "id": "d99d9d47df6471c9",
   "outputs": [
    {
     "name": "stdout",
     "output_type": "stream",
     "text": [
      "Similarity between 'them' and 'they': 0.12963637191820188\n"
     ]
    }
   ],
   "execution_count": 31
  },
  {
   "metadata": {},
   "cell_type": "markdown",
   "source": "评估 cbow_word_embeddings",
   "id": "9d4c153a81597f3a"
  },
  {
   "metadata": {
    "ExecuteTime": {
     "end_time": "2024-06-22T07:36:44.997169Z",
     "start_time": "2024-06-22T07:36:44.983644Z"
    }
   },
   "cell_type": "code",
   "source": [
    "sentence1 = 'What are they saying ?' \n",
    "sentence2 = 'How old are you ?'  \n",
    "sentence3 = 'Your dog is very big .'  \n",
    "\n",
    "# 获取句子的嵌入表示\n",
    "sentence_embedding1 = get_sentence_embedding(sentence1, vocab, cbow_word_embeddings)\n",
    "sentence_embedding2 = get_sentence_embedding(sentence2, vocab, cbow_word_embeddings)\n",
    "sentence_embedding3 = get_sentence_embedding(sentence3, vocab, cbow_word_embeddings)\n",
    "\n",
    "# 计算句子之间的相似度\n",
    "similarity12 = cosine_similarity(sentence_embedding1, sentence_embedding2)\n",
    "similarity13 = cosine_similarity(sentence_embedding1, sentence_embedding3)\n",
    "print(f\"Similarity between '{sentence1}' and '{sentence2}':\", similarity12)\n",
    "print(f\"Similarity between '{sentence1}' and '{sentence3}':\", similarity13)\n",
    "\n",
    "word1 = 'hi'  \n",
    "word2 = 'hello'  \n",
    "\n",
    "similarity = get_similarity(word1,word2, vocab, cbow_word_embeddings)\n",
    "print(f\"Similarity between '{word1}' and '{word2}':\", similarity)"
   ],
   "id": "ef2caea271a85912",
   "outputs": [
    {
     "name": "stdout",
     "output_type": "stream",
     "text": [
      "Similarity between 'What are they saying ?' and 'How old are you ?': 0.7930726730937743\n",
      "Similarity between 'What are they saying ?' and 'Your dog is very big .': 0.25281509968431753\n",
      "Similarity between 'hi' and 'hello': 0.6586488366950162\n"
     ]
    }
   ],
   "execution_count": 61
  },
  {
   "metadata": {},
   "cell_type": "markdown",
   "source": "评估 glove_embeddings",
   "id": "6717763c1b11c8d9"
  },
  {
   "cell_type": "code",
   "source": [
    "sentence1 = 'What are they saying ?'  \n",
    "sentence2 = 'How old are you ?'  \n",
    "sentence3 = 'Your dog is very big .' \n",
    "\n",
    "# 获取句子的嵌入表示\n",
    "sentence_embedding1 = get_sentence_embedding(sentence1, vocab, glove_embeddings)\n",
    "sentence_embedding2 = get_sentence_embedding(sentence2, vocab, glove_embeddings)\n",
    "sentence_embedding3 = get_sentence_embedding(sentence3, vocab, glove_embeddings)\n",
    "\n",
    "# 计算句子之间的相似度\n",
    "similarity12 = cosine_similarity(sentence_embedding1, sentence_embedding2)\n",
    "similarity13 = cosine_similarity(sentence_embedding1, sentence_embedding3)\n",
    "print(f\"Similarity between '{sentence1}' and '{sentence2}':\", similarity12)\n",
    "print(f\"Similarity between '{sentence1}' and '{sentence3}':\", similarity13)\n",
    "\n",
    "word1 = 'hi'  \n",
    "word2 = 'hello'  \n",
    "\n",
    "similarity = get_similarity(word1,word2, vocab, glove_embeddings)\n",
    "print(f\"Similarity between '{word1}' and '{word2}':\", similarity)"
   ],
   "metadata": {
    "collapsed": false,
    "ExecuteTime": {
     "end_time": "2024-06-22T07:08:19.390249Z",
     "start_time": "2024-06-22T07:08:19.372139Z"
    }
   },
   "id": "ac91ae443dd4fbb0",
   "outputs": [
    {
     "name": "stdout",
     "output_type": "stream",
     "text": [
      "Similarity between 'What are they saying ?' and 'How old are you ?': 0.3448355337818463\n",
      "Similarity between 'What are they saying ?' and 'Your dog is very big .': 0.0007248940616008282\n",
      "Similarity between 'hi' and 'hello': 0.10990319975967086\n"
     ]
    }
   ],
   "execution_count": 42
  },
  {
   "metadata": {},
   "cell_type": "markdown",
   "source": "评估 fasttext_word_embeddings",
   "id": "3eea9382afc05ab5"
  },
  {
   "cell_type": "code",
   "source": [
    "sentence1 = 'What are they saying ?'  \n",
    "sentence2 = 'How old are you ?'  \n",
    "sentence3 = 'Your dog is very big .'  \n",
    "# 获取句子的嵌入表示\n",
    "sentence_embedding1 = get_sentence_embedding(sentence1, vocab, fasttext_word_embeddings)\n",
    "sentence_embedding2 = get_sentence_embedding(sentence2, vocab, fasttext_word_embeddings)\n",
    "sentence_embedding3 = get_sentence_embedding(sentence3, vocab, fasttext_word_embeddings)\n",
    "\n",
    "# 计算句子之间的相似度\n",
    "similarity12 = cosine_similarity(sentence_embedding1, sentence_embedding2)\n",
    "similarity13 = cosine_similarity(sentence_embedding1, sentence_embedding3)\n",
    "print(f\"Similarity between '{sentence1}' and '{sentence2}':\", similarity12)\n",
    "print(f\"Similarity between '{sentence1}' and '{sentence3}':\", similarity13)\n",
    "\n",
    "word1 = 'hi'  \n",
    "word2 = 'hello'  \n",
    "\n",
    "similarity = get_similarity(word1,word2, vocab, fasttext_word_embeddings)\n",
    "print(f\"Similarity between '{word1}' and '{word2}':\", similarity)"
   ],
   "metadata": {
    "collapsed": false,
    "ExecuteTime": {
     "end_time": "2024-06-22T07:45:14.232650Z",
     "start_time": "2024-06-22T07:45:14.223135Z"
    }
   },
   "id": "4ffd88dc3072e38b",
   "outputs": [
    {
     "name": "stdout",
     "output_type": "stream",
     "text": [
      "Similarity between 'What are they saying ?' and 'How old are you ?': 0.9483458430131255\n",
      "Similarity between 'What are they saying ?' and 'Your dog is very big .': 0.830820885289421\n",
      "Similarity between 'hi' and 'hello': 0.4343950532804011\n"
     ]
    }
   ],
   "execution_count": 69
  }
 ],
 "metadata": {
  "kernelspec": {
   "display_name": "Python 3",
   "language": "python",
   "name": "python3"
  },
  "language_info": {
   "codemirror_mode": {
    "name": "ipython",
    "version": 2
   },
   "file_extension": ".py",
   "mimetype": "text/x-python",
   "name": "python",
   "nbconvert_exporter": "python",
   "pygments_lexer": "ipython2",
   "version": "2.7.6"
  }
 },
 "nbformat": 4,
 "nbformat_minor": 5
}
